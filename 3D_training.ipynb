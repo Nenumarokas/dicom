{
 "cells": [
  {
   "cell_type": "code",
   "execution_count": 1,
   "metadata": {},
   "outputs": [],
   "source": [
    "from tqdm import tqdm\n",
    "from monai.networks.nets import UNet\n",
    "from ply_creation_lib import create_ply\n",
    "from skimage.measure import block_reduce\n",
    "from sklearn.model_selection import train_test_split\n",
    "from torch.utils.data import Dataset, DataLoader, random_split\n",
    "import matplotlib.pyplot as plt\n",
    "import monai.losses as losses\n",
    "import torch.optim as optim\n",
    "import pydicom as dicom\n",
    "import torchio as tio\n",
    "import numpy as np\n",
    "import pickle\n",
    "import torch\n",
    "import time\n",
    "import copy\n",
    "import json\n",
    "import os"
   ]
  },
  {
   "cell_type": "code",
   "execution_count": null,
   "metadata": {},
   "outputs": [],
   "source": [
    "def get_annotated_data() -> list[dict[str, np.ndarray]]:\n",
    "    data = []\n",
    "    for annotation_file in tqdm(os.listdir('annotations'), desc='scanning files'):\n",
    "        mask = read_annotation(f'annotations\\\\{annotation_file}')\n",
    "        scan_folder = '_'.join(annotation_file.split('_')[:2])\n",
    "        scan = read_dicom(scan_folder)\n",
    "\n",
    "        mask_limit = min(512, mask.shape[0])\n",
    "        normal_size_mask = np.zeros((512, 512, 512), dtype=mask.dtype)\n",
    "        normal_size_mask[:mask_limit, :, :] = mask[:mask_limit, :, :]\n",
    "\n",
    "        normal_size_scan = np.zeros((512, 512, 512), dtype=scan.dtype)\n",
    "        normal_size_scan[:mask_limit, :, :] = scan[:mask_limit, :, :]\n",
    "\n",
    "        data.append({'scan': normal_size_scan, 'mask': normal_size_mask})\n",
    "    return data\n",
    "\n",
    "def read_dicom(input_folder: str) -> np.ndarray:\n",
    "    files: list[str] = os.listdir(input_folder)\n",
    "    data = [dicom.dcmread(f'{input_folder}\\\\{file}') for file in files if file.endswith('.dcm')]\n",
    "    image = np.array([dicom.pixel_array(datum) for datum in data])\n",
    "    image[image < 0] = 0\n",
    "    return image\n",
    "\n",
    "def downscale_data(data: list[dict[str, np.ndarray]], new_size: int) -> list[dict[str, np.ndarray]]:\n",
    "    b_size = data[0]['mask'].shape[0] // new_size\n",
    "    block_size = (b_size, b_size, b_size)\n",
    "\n",
    "    new_data = []\n",
    "    for datum in tqdm(data, desc='downscaling data'):\n",
    "        downscaled_mask = downscale(datum['mask'], block_size) > 0.5\n",
    "        downscaled_scan = downscale(datum['scan'], block_size)\n",
    "\n",
    "        new_data.append({'scan': downscaled_scan, 'mask': downscaled_mask})\n",
    "    return new_data\n",
    "\n",
    "def downscale(input: np.ndarray, block_size: tuple) -> np.ndarray:\n",
    "    return block_reduce(input, block_size=block_size, func=np.mean)\n",
    "\n",
    "def save_new_data(data: list[dict[str, np.ndarray]]) -> None:\n",
    "    for i, datum in enumerate(tqdm(data, desc='saving data')):\n",
    "        np.save(f'd:\\\\dicom\\\\my_dataset\\\\base\\\\scans\\\\{i}.npy', datum['scan'])\n",
    "        np.save(f'd:\\\\dicom\\\\my_dataset\\\\base\\\\masks\\\\{i}.npy', datum['mask'])\n",
    "\n",
    "def save_augmented_data(data: list[tuple], folder: str = 'augmented') -> None:\n",
    "    for i, datum in enumerate(tqdm(data, desc='saving data')):\n",
    "        np.save(f'd:\\\\dicom\\\\my_dataset\\\\{folder}\\\\scans\\\\{i}.npy', datum[0])\n",
    "        np.save(f'd:\\\\dicom\\\\my_dataset\\\\{folder}\\\\masks\\\\{i}.npy', datum[1].astype(bool))\n",
    "\n",
    "def save_augmented_datum(data: tuple, i: int, folder: str = 'augmented') -> None:\n",
    "    np.save(f'd:\\\\dicom\\\\my_dataset\\\\{folder}\\\\scans\\\\{i}.npy', data[0])\n",
    "    np.save(f'd:\\\\dicom\\\\my_dataset\\\\{folder}\\\\masks\\\\{i}.npy', data[1].astype(bool))\n",
    "\n",
    "def get_transformation():\n",
    "    return tio.Compose([\n",
    "        tio.RandomFlip(axes=(1, 2), p=0.5),\n",
    "        tio.RandomAffine(\n",
    "            degrees=(0, 0, 360),\n",
    "            scales=(0.9, 1.1),\n",
    "            translation=(5, 5, 5),\n",
    "            p=0.5),\n",
    "        tio.RandomElasticDeformation(num_control_points=7, max_displacement=5, p=0.5),\n",
    "        tio.RandomGamma(p=0.5),\n",
    "        tio.RandomNoise(mean=0, std=0.1, p=0.5),\n",
    "        tio.RandomBiasField(p=0.5)])\n",
    "\n",
    "def rotation_transformation():\n",
    "    return tio.Compose([\n",
    "        tio.RandomAffine(\n",
    "            degrees=(0, 0, 360),\n",
    "            scales=(0.9, 1.1),\n",
    "            translation=(5, 5, 5),\n",
    "            p=0.5),\n",
    "        tio.RandomFlip(axes=(1, 2), p=0.5)])\n",
    "\n",
    "def get_subject(scan: np.ndarray, mask: np.ndarray) -> tio.Subject:\n",
    "    return tio.Subject(\n",
    "        scan=tio.ScalarImage(tensor=np.expand_dims(scan, axis=0)),\n",
    "        mask=tio.LabelMap(tensor=np.expand_dims(mask, axis=0)))\n",
    "\n",
    "def augment(scan: np.ndarray, mask: np.ndarray, transform: tio.Compose) -> tuple[np.ndarray, np.ndarray]:\n",
    "    subject = get_subject(scan, mask)\n",
    "    augmented_subject = transform(subject)\n",
    "    aug_scan: np.ndarray = augmented_subject['scan'].numpy()[0]\n",
    "    aug_mask: np.ndarray = augmented_subject['mask'].numpy()[0]\n",
    "    return (aug_scan, aug_mask)\n",
    "\n",
    "def data_augmentation(downscaled_data: list[dict[str, np.ndarray]], augment_count: int, nii: bool):\n",
    "    transform = rotation_transformation() if nii else get_transformation()\n",
    "\n",
    "    augmented_data = []\n",
    "    for i, datum in enumerate(downscaled_data):\n",
    "        if nii:\n",
    "            scan, mask = datum\n",
    "        else:\n",
    "            scan = datum['scan']\n",
    "            mask = datum['mask']\n",
    "\n",
    "        for _ in tqdm(range(augment_count), desc=f'augmenting data {i+1}/{len(downscaled_data)}'):\n",
    "            aug_scan, aug_mask = augment(scan, mask, transform)\n",
    "            aug_scan = aug_scan.astype(np.int16)\n",
    "            aug_mask = aug_mask.astype(bool)\n",
    "            augmented_data.append((aug_scan, aug_mask))\n",
    "    return augmented_data\n",
    "\n",
    "def get_prepared_data(folder: str) -> list[dict[str, np.ndarray]]:\n",
    "    filenames = os.listdir(f'd:\\\\dicom\\\\my_dataset\\\\{folder}\\\\scans')\n",
    "    filenames.sort(key = lambda x: int(x.split('.')[0]))\n",
    "\n",
    "    data = []\n",
    "    for filename in tqdm(filenames, desc='loading data'):\n",
    "        scan = np.load(f'd:\\\\dicom\\\\my_dataset\\\\{folder}\\\\scans\\\\{filename}').astype(np.int16)\n",
    "        mask = np.load(f'd:\\\\dicom\\\\my_dataset\\\\{folder}\\\\masks\\\\{filename}').astype(np.int16)\n",
    "        data.append((scan, mask))\n",
    "    return data\n",
    "\n",
    "def read_annotation(annotation_file: str) -> np.ndarray:\n",
    "    return np.load(annotation_file)\n",
    "\n",
    "def get_data(from_annotations: bool, new_data_size: int, augment_count: int, folder: str = 'nii_augmented'):\n",
    "    if from_annotations:\n",
    "        data = get_annotated_data()\n",
    "\n",
    "        data = downscale_data(data, new_data_size)\n",
    "        save_new_data(data)\n",
    "        augmented_data = data_augmentation(data, augment_count, nii=False)\n",
    "        save_augmented_data(augmented_data)\n",
    "        return augmented_data\n",
    "    \n",
    "    return get_prepared_data(folder)"
   ]
  },
  {
   "cell_type": "code",
   "execution_count": 25,
   "metadata": {},
   "outputs": [],
   "source": [
    "train_size = 0.8\n",
    "test_size = 0.5\n",
    "new_data_size = 128\n",
    "augment_count = 4\n",
    "from_annotations = True\n",
    "\n",
    "model_output_folder = f'{os.getcwd()}\\\\models'"
   ]
  },
  {
   "cell_type": "code",
   "execution_count": null,
   "metadata": {},
   "outputs": [],
   "source": [
    "get_data()"
   ]
  },
  {
   "cell_type": "code",
   "execution_count": null,
   "metadata": {},
   "outputs": [],
   "source": [
    "downscaled_data = get_data(from_annotations, new_data_size, augment_count)"
   ]
  },
  {
   "cell_type": "code",
   "execution_count": 16,
   "metadata": {},
   "outputs": [
    {
     "name": "stdout",
     "output_type": "stream",
     "text": [
      "3200\n"
     ]
    }
   ],
   "source": [
    "class DataLoaderDataset(Dataset):\n",
    "    def __init__(self, data_folder: str, filenames: list):\n",
    "        self.data_folder = data_folder\n",
    "        self.filenames = filenames\n",
    "\n",
    "    def __len__(self):\n",
    "        return len(self.filenames)\n",
    "\n",
    "    def __getitem__(self, idx):\n",
    "        filename = self.filenames[idx]\n",
    "        scan = np.load(f'{self.data_folder}\\\\scans\\\\{filename}')\n",
    "        mask = np.load(f'{self.data_folder}\\\\masks\\\\{filename}')\n",
    "        scan = torch.tensor(scan, dtype=torch.float32).unsqueeze(0)\n",
    "        mask = torch.tensor(mask, dtype=torch.float32).unsqueeze(0)\n",
    "        return (scan, mask)\n",
    "\n",
    "selected_data_folder = 'nii_augmented'\n",
    "location_folder = f'D:\\\\dicom\\\\my_dataset\\\\{selected_data_folder}'\n",
    "filenames = os.listdir(f'{location_folder}\\\\scans')\n",
    "\n",
    "validation_filenames, training_filenames = train_test_split(filenames, test_size=int(len(filenames)*train_size), random_state=11)\n",
    "validation_filenames, testing_filenames = train_test_split(validation_filenames, test_size=int(len(validation_filenames)*test_size), random_state=11)\n",
    "\n",
    "\n",
    "train_dataset = DataLoaderDataset(location_folder, training_filenames)\n",
    "val_dataset = DataLoaderDataset(location_folder, validation_filenames)\n",
    "test_dataset = DataLoaderDataset(location_folder, testing_filenames)\n",
    "\n",
    "train_loader = DataLoader(train_dataset, batch_size=2, shuffle=True, num_workers=0, pin_memory=True)\n",
    "val_loader = DataLoader(val_dataset, batch_size=2, shuffle=True, num_workers=0, pin_memory=True)\n",
    "test_loader = DataLoader(test_dataset, batch_size=2, shuffle=True, num_workers=0, pin_memory=True)\n",
    "\n",
    "print(len(train_dataset))"
   ]
  },
  {
   "cell_type": "code",
   "execution_count": 15,
   "metadata": {},
   "outputs": [
    {
     "ename": "NameError",
     "evalue": "name 'downscaled_data' is not defined",
     "output_type": "error",
     "traceback": [
      "\u001b[31m---------------------------------------------------------------------------\u001b[39m",
      "\u001b[31mNameError\u001b[39m                                 Traceback (most recent call last)",
      "\u001b[36mCell\u001b[39m\u001b[36m \u001b[39m\u001b[32mIn[15]\u001b[39m\u001b[32m, line 14\u001b[39m\n\u001b[32m     11\u001b[39m         mask = torch.tensor(mask, dtype=torch.float32).unsqueeze(\u001b[32m0\u001b[39m)\n\u001b[32m     12\u001b[39m         \u001b[38;5;28;01mreturn\u001b[39;00m scan, mask\n\u001b[32m---> \u001b[39m\u001b[32m14\u001b[39m validation_filenames, training_data = train_test_split(\u001b[43mdownscaled_data\u001b[49m, test_size=\u001b[38;5;28mint\u001b[39m(\u001b[38;5;28mlen\u001b[39m(downscaled_data)*train_size), random_state=\u001b[32m11\u001b[39m)\n\u001b[32m     15\u001b[39m validation_filenames, testing_data = train_test_split(validation_filenames, test_size=\u001b[38;5;28mint\u001b[39m(\u001b[38;5;28mlen\u001b[39m(validation_filenames)*test_size), random_state=\u001b[32m11\u001b[39m)\n\u001b[32m     17\u001b[39m train_dataset = TrainingDataset(training_data)\n",
      "\u001b[31mNameError\u001b[39m: name 'downscaled_data' is not defined"
     ]
    }
   ],
   "source": [
    "class TrainingDataset(Dataset):\n",
    "    def __init__(self, data_list):\n",
    "        self.data_list = data_list\n",
    "\n",
    "    def __len__(self):\n",
    "        return len(self.data_list)\n",
    "\n",
    "    def __getitem__(self, idx):\n",
    "        scan, mask = self.data_list[idx]\n",
    "        scan = torch.tensor(scan, dtype=torch.float32).unsqueeze(0)\n",
    "        mask = torch.tensor(mask, dtype=torch.float32).unsqueeze(0)\n",
    "        return scan, mask\n",
    "\n",
    "validation_filenames, training_data = train_test_split(downscaled_data, test_size=int(len(downscaled_data)*train_size), random_state=11)\n",
    "validation_filenames, testing_data = train_test_split(validation_filenames, test_size=int(len(validation_filenames)*test_size), random_state=11)\n",
    "\n",
    "train_dataset = TrainingDataset(training_data)\n",
    "val_dataset = TrainingDataset(validation_filenames)\n",
    "test_dataset = TrainingDataset(testing_data)\n",
    "\n",
    "train_loader = DataLoader(train_dataset, batch_size=2, shuffle=True, num_workers=0, pin_memory=True)\n",
    "val_loader = DataLoader(val_dataset, batch_size=2, shuffle=True, num_workers=0, pin_memory=True)\n",
    "test_loader = DataLoader(test_dataset, batch_size=2, shuffle=True, num_workers=0, pin_memory=True)"
   ]
  },
  {
   "cell_type": "code",
   "execution_count": 17,
   "metadata": {},
   "outputs": [],
   "source": [
    "model = UNet(\n",
    "    spatial_dims=3,\n",
    "    in_channels=1,\n",
    "    out_channels=1,\n",
    "    channels=(16, 32, 64, 128, 256),\n",
    "    strides=(2, 2, 2, 2),\n",
    "    num_res_units=1\n",
    ").to('cuda')\n",
    "\n",
    "criterion = losses.DiceLoss(sigmoid=True)\n",
    "optimizer = optim.Adam(model.parameters(), lr=1e-4)"
   ]
  },
  {
   "cell_type": "code",
   "execution_count": 18,
   "metadata": {},
   "outputs": [
    {
     "name": "stderr",
     "output_type": "stream",
     "text": [
      "Epoch 1/100: 100%|██████████| 1600/1600 [08:30<00:00,  3.14it/s]\n",
      "                                                             \r"
     ]
    },
    {
     "name": "stdout",
     "output_type": "stream",
     "text": [
      "training - loss: 0.9974, dice: 0.0046 | validation - loss: 0.9965, dice: 0.0639"
     ]
    },
    {
     "name": "stderr",
     "output_type": "stream",
     "text": [
      "Epoch 2/100: 100%|██████████| 1600/1600 [07:25<00:00,  3.59it/s]\n",
      "                                                             \r"
     ]
    },
    {
     "name": "stdout",
     "output_type": "stream",
     "text": [
      "training - loss: 0.9938, dice: 0.0103 | validation - loss: 0.9907, dice: 0.1528"
     ]
    },
    {
     "name": "stderr",
     "output_type": "stream",
     "text": [
      "Epoch 3/100: 100%|██████████| 1600/1600 [07:24<00:00,  3.60it/s]\n",
      "                                                             \r"
     ]
    },
    {
     "name": "stdout",
     "output_type": "stream",
     "text": [
      "training - loss: 0.9878, dice: 0.0160 | validation - loss: 0.9838, dice: -0.1727"
     ]
    },
    {
     "name": "stderr",
     "output_type": "stream",
     "text": [
      "Epoch 4/100: 100%|██████████| 1600/1600 [07:24<00:00,  3.60it/s]\n",
      "                                                             \r"
     ]
    },
    {
     "name": "stdout",
     "output_type": "stream",
     "text": [
      "training - loss: 0.9794, dice: 0.0262 | validation - loss: 0.9742, dice: -0.1082"
     ]
    },
    {
     "name": "stderr",
     "output_type": "stream",
     "text": [
      "Epoch 5/100: 100%|██████████| 1600/1600 [07:25<00:00,  3.59it/s]\n",
      "                                                             \r"
     ]
    },
    {
     "name": "stdout",
     "output_type": "stream",
     "text": [
      "training - loss: 0.9668, dice: 0.0422 | validation - loss: 0.9561, dice: -0.0489"
     ]
    },
    {
     "name": "stderr",
     "output_type": "stream",
     "text": [
      "Epoch 6/100: 100%|██████████| 1600/1600 [07:26<00:00,  3.59it/s]\n",
      "                                                             \r"
     ]
    },
    {
     "name": "stdout",
     "output_type": "stream",
     "text": [
      "training - loss: 0.8803, dice: 0.1941 | validation - loss: 0.6999, dice: -0.0002"
     ]
    },
    {
     "name": "stderr",
     "output_type": "stream",
     "text": [
      "Epoch 7/100: 100%|██████████| 1600/1600 [07:27<00:00,  3.57it/s]\n",
      "                                                             \r"
     ]
    },
    {
     "name": "stdout",
     "output_type": "stream",
     "text": [
      "training - loss: 0.5903, dice: 0.4859 | validation - loss: 0.5366, dice: 0.0001"
     ]
    },
    {
     "name": "stderr",
     "output_type": "stream",
     "text": [
      "Epoch 8/100: 100%|██████████| 1600/1600 [07:25<00:00,  3.59it/s]\n",
      "                                                             \r"
     ]
    },
    {
     "name": "stdout",
     "output_type": "stream",
     "text": [
      "training - loss: 0.4974, dice: 0.5341 | validation - loss: 0.4919, dice: -0.0002"
     ]
    },
    {
     "name": "stderr",
     "output_type": "stream",
     "text": [
      "Epoch 9/100: 100%|██████████| 1600/1600 [07:25<00:00,  3.59it/s]\n",
      "                                                             \r"
     ]
    },
    {
     "name": "stdout",
     "output_type": "stream",
     "text": [
      "training - loss: 0.4596, dice: 0.5586 | validation - loss: 0.4752, dice: -0.0001"
     ]
    },
    {
     "name": "stderr",
     "output_type": "stream",
     "text": [
      "Epoch 10/100: 100%|██████████| 1600/1600 [07:26<00:00,  3.58it/s]\n",
      "                                                             \r"
     ]
    },
    {
     "name": "stdout",
     "output_type": "stream",
     "text": [
      "training - loss: 0.4365, dice: 0.5764 | validation - loss: 0.4592, dice: -0.0003"
     ]
    },
    {
     "name": "stderr",
     "output_type": "stream",
     "text": [
      "Epoch 11/100: 100%|██████████| 1600/1600 [07:25<00:00,  3.59it/s]\n",
      "                                                             \r"
     ]
    },
    {
     "name": "stdout",
     "output_type": "stream",
     "text": [
      "training - loss: 0.4187, dice: 0.5907 | validation - loss: 0.4535, dice: -0.0002"
     ]
    },
    {
     "name": "stderr",
     "output_type": "stream",
     "text": [
      "Epoch 12/100: 100%|██████████| 1600/1600 [07:25<00:00,  3.59it/s]\n",
      "                                                             \r"
     ]
    },
    {
     "name": "stdout",
     "output_type": "stream",
     "text": [
      "training - loss: 0.4042, dice: 0.6038 | validation - loss: 0.4415, dice: -0.0003"
     ]
    },
    {
     "name": "stderr",
     "output_type": "stream",
     "text": [
      "Epoch 13/100: 100%|██████████| 1600/1600 [07:18<00:00,  3.65it/s]\n",
      "                                                             \r"
     ]
    },
    {
     "name": "stdout",
     "output_type": "stream",
     "text": [
      "training - loss: 0.3921, dice: 0.6150 | validation - loss: 0.4359, dice: -0.0002"
     ]
    },
    {
     "name": "stderr",
     "output_type": "stream",
     "text": [
      "Epoch 14/100: 100%|██████████| 1600/1600 [06:58<00:00,  3.82it/s]\n",
      "                                                             \r"
     ]
    },
    {
     "name": "stdout",
     "output_type": "stream",
     "text": [
      "training - loss: 0.3807, dice: 0.6256 | validation - loss: 0.4462, dice: 0.0000"
     ]
    },
    {
     "name": "stderr",
     "output_type": "stream",
     "text": [
      "Epoch 15/100: 100%|██████████| 1600/1600 [06:57<00:00,  3.83it/s]\n",
      "                                                             \r"
     ]
    },
    {
     "name": "stdout",
     "output_type": "stream",
     "text": [
      "training - loss: 0.3720, dice: 0.6341 | validation - loss: 0.4240, dice: -0.0003"
     ]
    },
    {
     "name": "stderr",
     "output_type": "stream",
     "text": [
      "Epoch 16/100: 100%|██████████| 1600/1600 [06:57<00:00,  3.83it/s]\n",
      "                                                             \r"
     ]
    },
    {
     "name": "stdout",
     "output_type": "stream",
     "text": [
      "training - loss: 0.3635, dice: 0.6416 | validation - loss: 0.4300, dice: -0.0001"
     ]
    },
    {
     "name": "stderr",
     "output_type": "stream",
     "text": [
      "Epoch 17/100: 100%|██████████| 1600/1600 [06:56<00:00,  3.84it/s]\n",
      "                                                             \r"
     ]
    },
    {
     "name": "stdout",
     "output_type": "stream",
     "text": [
      "training - loss: 0.3568, dice: 0.6488 | validation - loss: 0.4211, dice: -0.0002"
     ]
    },
    {
     "name": "stderr",
     "output_type": "stream",
     "text": [
      "Epoch 18/100: 100%|██████████| 1600/1600 [06:58<00:00,  3.82it/s]\n",
      "                                                             \r"
     ]
    },
    {
     "name": "stdout",
     "output_type": "stream",
     "text": [
      "training - loss: 0.3494, dice: 0.6552 | validation - loss: 0.4132, dice: -0.0003"
     ]
    },
    {
     "name": "stderr",
     "output_type": "stream",
     "text": [
      "Epoch 19/100: 100%|██████████| 1600/1600 [06:58<00:00,  3.82it/s]\n",
      "                                                             \r"
     ]
    },
    {
     "name": "stdout",
     "output_type": "stream",
     "text": [
      "training - loss: 0.3433, dice: 0.6615 | validation - loss: 0.4116, dice: -0.0002"
     ]
    },
    {
     "name": "stderr",
     "output_type": "stream",
     "text": [
      "Epoch 20/100: 100%|██████████| 1600/1600 [06:58<00:00,  3.82it/s]\n",
      "                                                             \r"
     ]
    },
    {
     "name": "stdout",
     "output_type": "stream",
     "text": [
      "training - loss: 0.3375, dice: 0.6670 | validation - loss: 0.4113, dice: -0.0002"
     ]
    },
    {
     "name": "stderr",
     "output_type": "stream",
     "text": [
      "Epoch 21/100: 100%|██████████| 1600/1600 [06:56<00:00,  3.84it/s]\n",
      "                                                             \r"
     ]
    },
    {
     "name": "stdout",
     "output_type": "stream",
     "text": [
      "training - loss: 0.3342, dice: 0.6702 | validation - loss: 0.4147, dice: -0.0001"
     ]
    },
    {
     "name": "stderr",
     "output_type": "stream",
     "text": [
      "Epoch 22/100: 100%|██████████| 1600/1600 [06:56<00:00,  3.84it/s]\n",
      "                                                             \r"
     ]
    },
    {
     "name": "stdout",
     "output_type": "stream",
     "text": [
      "training - loss: 0.3275, dice: 0.6764 | validation - loss: 0.4209, dice: -0.0001"
     ]
    },
    {
     "name": "stderr",
     "output_type": "stream",
     "text": [
      "Epoch 23/100: 100%|██████████| 1600/1600 [06:57<00:00,  3.84it/s]\n",
      "                                                             \r"
     ]
    },
    {
     "name": "stdout",
     "output_type": "stream",
     "text": [
      "training - loss: 0.3236, dice: 0.6802 | validation - loss: 0.4091, dice: -0.0002"
     ]
    },
    {
     "name": "stderr",
     "output_type": "stream",
     "text": [
      "Epoch 24/100: 100%|██████████| 1600/1600 [06:58<00:00,  3.83it/s]\n",
      "                                                             \r"
     ]
    },
    {
     "name": "stdout",
     "output_type": "stream",
     "text": [
      "training - loss: 0.3198, dice: 0.6839 | validation - loss: 0.4066, dice: -0.0002"
     ]
    },
    {
     "name": "stderr",
     "output_type": "stream",
     "text": [
      "Epoch 25/100: 100%|██████████| 1600/1600 [06:56<00:00,  3.84it/s]\n",
      "                                                             \r"
     ]
    },
    {
     "name": "stdout",
     "output_type": "stream",
     "text": [
      "training - loss: 0.3156, dice: 0.6878 | validation - loss: 0.4028, dice: -0.0003"
     ]
    },
    {
     "name": "stderr",
     "output_type": "stream",
     "text": [
      "Epoch 26/100: 100%|██████████| 1600/1600 [06:56<00:00,  3.84it/s]\n",
      "                                                             \r"
     ]
    },
    {
     "name": "stdout",
     "output_type": "stream",
     "text": [
      "training - loss: 0.3124, dice: 0.6908 | validation - loss: 0.4066, dice: -0.0002"
     ]
    },
    {
     "name": "stderr",
     "output_type": "stream",
     "text": [
      "Epoch 27/100: 100%|██████████| 1600/1600 [06:56<00:00,  3.84it/s]\n",
      "                                                             \r"
     ]
    },
    {
     "name": "stdout",
     "output_type": "stream",
     "text": [
      "training - loss: 0.3090, dice: 0.6944 | validation - loss: 0.3971, dice: -0.0002"
     ]
    },
    {
     "name": "stderr",
     "output_type": "stream",
     "text": [
      "Epoch 28/100: 100%|██████████| 1600/1600 [06:56<00:00,  3.84it/s]\n",
      "                                                             \r"
     ]
    },
    {
     "name": "stdout",
     "output_type": "stream",
     "text": [
      "training - loss: 0.3083, dice: 0.6949 | validation - loss: 0.3980, dice: -0.0003"
     ]
    },
    {
     "name": "stderr",
     "output_type": "stream",
     "text": [
      "Epoch 29/100: 100%|██████████| 1600/1600 [06:56<00:00,  3.84it/s]\n",
      "                                                             \r"
     ]
    },
    {
     "name": "stdout",
     "output_type": "stream",
     "text": [
      "training - loss: 0.3024, dice: 0.7006 | validation - loss: 0.3972, dice: -0.0003"
     ]
    },
    {
     "name": "stderr",
     "output_type": "stream",
     "text": [
      "Epoch 30/100: 100%|██████████| 1600/1600 [06:57<00:00,  3.83it/s]\n",
      "                                                             \r"
     ]
    },
    {
     "name": "stdout",
     "output_type": "stream",
     "text": [
      "training - loss: 0.3000, dice: 0.7030 | validation - loss: 0.4005, dice: -0.0001"
     ]
    },
    {
     "name": "stderr",
     "output_type": "stream",
     "text": [
      "Epoch 31/100: 100%|██████████| 1600/1600 [06:56<00:00,  3.84it/s]\n",
      "                                                             \r"
     ]
    },
    {
     "name": "stdout",
     "output_type": "stream",
     "text": [
      "training - loss: 0.2976, dice: 0.7055 | validation - loss: 0.3941, dice: -0.0003"
     ]
    },
    {
     "name": "stderr",
     "output_type": "stream",
     "text": [
      "Epoch 32/100: 100%|██████████| 1600/1600 [06:57<00:00,  3.84it/s]\n",
      "                                                             \r"
     ]
    },
    {
     "name": "stdout",
     "output_type": "stream",
     "text": [
      "training - loss: 0.2948, dice: 0.7080 | validation - loss: 0.4028, dice: -0.0001"
     ]
    },
    {
     "name": "stderr",
     "output_type": "stream",
     "text": [
      "Epoch 33/100: 100%|██████████| 1600/1600 [06:57<00:00,  3.83it/s]\n",
      "                                                             \r"
     ]
    },
    {
     "name": "stdout",
     "output_type": "stream",
     "text": [
      "training - loss: 0.2927, dice: 0.7100 | validation - loss: 0.4017, dice: -0.0001"
     ]
    },
    {
     "name": "stderr",
     "output_type": "stream",
     "text": [
      "Epoch 34/100: 100%|██████████| 1600/1600 [06:57<00:00,  3.83it/s]\n",
      "                                                             \r"
     ]
    },
    {
     "name": "stdout",
     "output_type": "stream",
     "text": [
      "training - loss: 0.2918, dice: 0.7109 | validation - loss: 0.3980, dice: -0.0001"
     ]
    },
    {
     "name": "stderr",
     "output_type": "stream",
     "text": [
      "Epoch 35/100: 100%|██████████| 1600/1600 [06:57<00:00,  3.83it/s]\n",
      "                                                             \r"
     ]
    },
    {
     "name": "stdout",
     "output_type": "stream",
     "text": [
      "training - loss: 0.2875, dice: 0.7152 | validation - loss: 0.3956, dice: -0.0002"
     ]
    },
    {
     "name": "stderr",
     "output_type": "stream",
     "text": [
      "Epoch 36/100: 100%|██████████| 1600/1600 [06:57<00:00,  3.83it/s]\n",
      "                                                             \r"
     ]
    },
    {
     "name": "stdout",
     "output_type": "stream",
     "text": [
      "training - loss: 0.2860, dice: 0.7162 | validation - loss: 0.3997, dice: -0.0002"
     ]
    },
    {
     "name": "stderr",
     "output_type": "stream",
     "text": [
      "Epoch 37/100: 100%|██████████| 1600/1600 [06:57<00:00,  3.83it/s]\n",
      "                                                             \r"
     ]
    },
    {
     "name": "stdout",
     "output_type": "stream",
     "text": [
      "training - loss: 0.2840, dice: 0.7183 | validation - loss: 0.3959, dice: -0.0002"
     ]
    },
    {
     "name": "stderr",
     "output_type": "stream",
     "text": [
      "Epoch 38/100: 100%|██████████| 1600/1600 [06:57<00:00,  3.83it/s]\n",
      "                                                             \r"
     ]
    },
    {
     "name": "stdout",
     "output_type": "stream",
     "text": [
      "training - loss: 0.2823, dice: 0.7203 | validation - loss: 0.4089, dice: -0.0000"
     ]
    },
    {
     "name": "stderr",
     "output_type": "stream",
     "text": [
      "Epoch 39/100: 100%|██████████| 1600/1600 [06:57<00:00,  3.83it/s]\n",
      "                                                             \r"
     ]
    },
    {
     "name": "stdout",
     "output_type": "stream",
     "text": [
      "training - loss: 0.2804, dice: 0.7222 | validation - loss: 0.3931, dice: -0.0001"
     ]
    },
    {
     "name": "stderr",
     "output_type": "stream",
     "text": [
      "Epoch 40/100: 100%|██████████| 1600/1600 [06:58<00:00,  3.82it/s]\n",
      "                                                             \r"
     ]
    },
    {
     "name": "stdout",
     "output_type": "stream",
     "text": [
      "training - loss: 0.2781, dice: 0.7241 | validation - loss: 0.3889, dice: -0.0002"
     ]
    },
    {
     "name": "stderr",
     "output_type": "stream",
     "text": [
      "Epoch 41/100: 100%|██████████| 1600/1600 [06:58<00:00,  3.83it/s]\n",
      "                                                             \r"
     ]
    },
    {
     "name": "stdout",
     "output_type": "stream",
     "text": [
      "training - loss: 0.2761, dice: 0.7262 | validation - loss: 0.3936, dice: -0.0002"
     ]
    },
    {
     "name": "stderr",
     "output_type": "stream",
     "text": [
      "Epoch 42/100: 100%|██████████| 1600/1600 [06:57<00:00,  3.83it/s]\n",
      "                                                             \r"
     ]
    },
    {
     "name": "stdout",
     "output_type": "stream",
     "text": [
      "training - loss: 0.2749, dice: 0.7276 | validation - loss: 0.3883, dice: -0.0002"
     ]
    },
    {
     "name": "stderr",
     "output_type": "stream",
     "text": [
      "Epoch 43/100: 100%|██████████| 1600/1600 [06:57<00:00,  3.83it/s]\n",
      "                                                             \r"
     ]
    },
    {
     "name": "stdout",
     "output_type": "stream",
     "text": [
      "training - loss: 0.2735, dice: 0.7284 | validation - loss: 0.3929, dice: -0.0002"
     ]
    },
    {
     "name": "stderr",
     "output_type": "stream",
     "text": [
      "Epoch 44/100: 100%|██████████| 1600/1600 [06:57<00:00,  3.84it/s]\n",
      "                                                             \r"
     ]
    },
    {
     "name": "stdout",
     "output_type": "stream",
     "text": [
      "training - loss: 0.2719, dice: 0.7302 | validation - loss: 0.3947, dice: -0.0001"
     ]
    },
    {
     "name": "stderr",
     "output_type": "stream",
     "text": [
      "Epoch 45/100: 100%|██████████| 1600/1600 [06:57<00:00,  3.83it/s]\n",
      "                                                             \r"
     ]
    },
    {
     "name": "stdout",
     "output_type": "stream",
     "text": [
      "training - loss: 0.2702, dice: 0.7318 | validation - loss: 0.3902, dice: -0.0002"
     ]
    },
    {
     "name": "stderr",
     "output_type": "stream",
     "text": [
      "Epoch 46/100: 100%|██████████| 1600/1600 [06:56<00:00,  3.84it/s]\n",
      "                                                             \r"
     ]
    },
    {
     "name": "stdout",
     "output_type": "stream",
     "text": [
      "training - loss: 0.2687, dice: 0.7335 | validation - loss: 0.3890, dice: -0.0002"
     ]
    },
    {
     "name": "stderr",
     "output_type": "stream",
     "text": [
      "Epoch 47/100: 100%|██████████| 1600/1600 [06:57<00:00,  3.83it/s]\n",
      "                                                             \r"
     ]
    },
    {
     "name": "stdout",
     "output_type": "stream",
     "text": [
      "training - loss: 0.2676, dice: 0.7344 | validation - loss: 0.4012, dice: -0.0001"
     ]
    },
    {
     "name": "stderr",
     "output_type": "stream",
     "text": [
      "Epoch 48/100: 100%|██████████| 1600/1600 [06:56<00:00,  3.84it/s]\n",
      "                                                             \r"
     ]
    },
    {
     "name": "stdout",
     "output_type": "stream",
     "text": [
      "training - loss: 0.2662, dice: 0.7356 | validation - loss: 0.3921, dice: -0.0002"
     ]
    },
    {
     "name": "stderr",
     "output_type": "stream",
     "text": [
      "Epoch 49/100: 100%|██████████| 1600/1600 [06:56<00:00,  3.85it/s]\n",
      "                                                             \r"
     ]
    },
    {
     "name": "stdout",
     "output_type": "stream",
     "text": [
      "training - loss: 0.2647, dice: 0.7369 | validation - loss: 0.3892, dice: -0.0001"
     ]
    },
    {
     "name": "stderr",
     "output_type": "stream",
     "text": [
      "Epoch 50/100: 100%|██████████| 1600/1600 [06:57<00:00,  3.84it/s]\n",
      "                                                             \r"
     ]
    },
    {
     "name": "stdout",
     "output_type": "stream",
     "text": [
      "training - loss: 0.2630, dice: 0.7388 | validation - loss: 0.4007, dice: -0.0001"
     ]
    },
    {
     "name": "stderr",
     "output_type": "stream",
     "text": [
      "Epoch 51/100: 100%|██████████| 1600/1600 [06:56<00:00,  3.84it/s]\n",
      "                                                             \r"
     ]
    },
    {
     "name": "stdout",
     "output_type": "stream",
     "text": [
      "training - loss: 0.2621, dice: 0.7399 | validation - loss: 0.3963, dice: -0.0002"
     ]
    },
    {
     "name": "stderr",
     "output_type": "stream",
     "text": [
      "Epoch 52/100: 100%|██████████| 1600/1600 [06:56<00:00,  3.84it/s]\n",
      "                                                             \r"
     ]
    },
    {
     "name": "stdout",
     "output_type": "stream",
     "text": [
      "training - loss: 0.2609, dice: 0.7410 | validation - loss: 0.3855, dice: -0.0002"
     ]
    },
    {
     "name": "stderr",
     "output_type": "stream",
     "text": [
      "Epoch 53/100: 100%|██████████| 1600/1600 [06:57<00:00,  3.83it/s]\n",
      "                                                             \r"
     ]
    },
    {
     "name": "stdout",
     "output_type": "stream",
     "text": [
      "training - loss: 0.2596, dice: 0.7424 | validation - loss: 0.3904, dice: -0.0002"
     ]
    },
    {
     "name": "stderr",
     "output_type": "stream",
     "text": [
      "Epoch 54/100: 100%|██████████| 1600/1600 [06:57<00:00,  3.83it/s]\n",
      "                                                             \r"
     ]
    },
    {
     "name": "stdout",
     "output_type": "stream",
     "text": [
      "training - loss: 0.2583, dice: 0.7436 | validation - loss: 0.3932, dice: -0.0002"
     ]
    },
    {
     "name": "stderr",
     "output_type": "stream",
     "text": [
      "Epoch 55/100: 100%|██████████| 1600/1600 [06:57<00:00,  3.84it/s]\n",
      "                                                             \r"
     ]
    },
    {
     "name": "stdout",
     "output_type": "stream",
     "text": [
      "training - loss: 0.2571, dice: 0.7445 | validation - loss: 0.3934, dice: -0.0001"
     ]
    },
    {
     "name": "stderr",
     "output_type": "stream",
     "text": [
      "Epoch 56/100: 100%|██████████| 1600/1600 [06:56<00:00,  3.84it/s]\n",
      "                                                             \r"
     ]
    },
    {
     "name": "stdout",
     "output_type": "stream",
     "text": [
      "training - loss: 0.2560, dice: 0.7456 | validation - loss: 0.3855, dice: -0.0002"
     ]
    },
    {
     "name": "stderr",
     "output_type": "stream",
     "text": [
      "Epoch 57/100: 100%|██████████| 1600/1600 [06:56<00:00,  3.84it/s]\n",
      "                                                             \r"
     ]
    },
    {
     "name": "stdout",
     "output_type": "stream",
     "text": [
      "training - loss: 0.2551, dice: 0.7465 | validation - loss: 0.3932, dice: -0.0002"
     ]
    },
    {
     "name": "stderr",
     "output_type": "stream",
     "text": [
      "Epoch 58/100: 100%|██████████| 1600/1600 [06:56<00:00,  3.84it/s]\n",
      "                                                             \r"
     ]
    },
    {
     "name": "stdout",
     "output_type": "stream",
     "text": [
      "training - loss: 0.2540, dice: 0.7475 | validation - loss: 0.3928, dice: -0.0001"
     ]
    },
    {
     "name": "stderr",
     "output_type": "stream",
     "text": [
      "Epoch 59/100: 100%|██████████| 1600/1600 [06:56<00:00,  3.84it/s]\n",
      "                                                             \r"
     ]
    },
    {
     "name": "stdout",
     "output_type": "stream",
     "text": [
      "training - loss: 0.2529, dice: 0.7490 | validation - loss: 0.3851, dice: -0.0002"
     ]
    },
    {
     "name": "stderr",
     "output_type": "stream",
     "text": [
      "Epoch 60/100: 100%|██████████| 1600/1600 [06:56<00:00,  3.84it/s]\n",
      "                                                             \r"
     ]
    },
    {
     "name": "stdout",
     "output_type": "stream",
     "text": [
      "training - loss: 0.2520, dice: 0.7494 | validation - loss: 0.3846, dice: -0.0002"
     ]
    },
    {
     "name": "stderr",
     "output_type": "stream",
     "text": [
      "Epoch 61/100: 100%|██████████| 1600/1600 [06:57<00:00,  3.84it/s]\n",
      "                                                             \r"
     ]
    },
    {
     "name": "stdout",
     "output_type": "stream",
     "text": [
      "training - loss: 0.2503, dice: 0.7512 | validation - loss: 0.3905, dice: -0.0002"
     ]
    },
    {
     "name": "stderr",
     "output_type": "stream",
     "text": [
      "Epoch 62/100: 100%|██████████| 1600/1600 [06:57<00:00,  3.84it/s]\n",
      "                                                             \r"
     ]
    },
    {
     "name": "stdout",
     "output_type": "stream",
     "text": [
      "training - loss: 0.2498, dice: 0.7517 | validation - loss: 0.3929, dice: -0.0002"
     ]
    },
    {
     "name": "stderr",
     "output_type": "stream",
     "text": [
      "Epoch 63/100: 100%|██████████| 1600/1600 [06:57<00:00,  3.83it/s]\n",
      "                                                             \r"
     ]
    },
    {
     "name": "stdout",
     "output_type": "stream",
     "text": [
      "training - loss: 0.2489, dice: 0.7526 | validation - loss: 0.3908, dice: -0.0002"
     ]
    },
    {
     "name": "stderr",
     "output_type": "stream",
     "text": [
      "Epoch 64/100: 100%|██████████| 1600/1600 [06:57<00:00,  3.83it/s]\n",
      "                                                             \r"
     ]
    },
    {
     "name": "stdout",
     "output_type": "stream",
     "text": [
      "training - loss: 0.2476, dice: 0.7539 | validation - loss: 0.3841, dice: -0.0002"
     ]
    },
    {
     "name": "stderr",
     "output_type": "stream",
     "text": [
      "Epoch 65/100: 100%|██████████| 1600/1600 [06:57<00:00,  3.83it/s]\n",
      "                                                             \r"
     ]
    },
    {
     "name": "stdout",
     "output_type": "stream",
     "text": [
      "training - loss: 0.2470, dice: 0.7546 | validation - loss: 0.3844, dice: -0.0002"
     ]
    },
    {
     "name": "stderr",
     "output_type": "stream",
     "text": [
      "Epoch 66/100: 100%|██████████| 1600/1600 [06:57<00:00,  3.83it/s]\n",
      "                                                             \r"
     ]
    },
    {
     "name": "stdout",
     "output_type": "stream",
     "text": [
      "training - loss: 0.2460, dice: 0.7554 | validation - loss: 0.3947, dice: -0.0001"
     ]
    },
    {
     "name": "stderr",
     "output_type": "stream",
     "text": [
      "Epoch 67/100: 100%|██████████| 1600/1600 [06:56<00:00,  3.84it/s]\n",
      "                                                             \r"
     ]
    },
    {
     "name": "stdout",
     "output_type": "stream",
     "text": [
      "training - loss: 0.2452, dice: 0.7564 | validation - loss: 0.3891, dice: -0.0002"
     ]
    },
    {
     "name": "stderr",
     "output_type": "stream",
     "text": [
      "Epoch 68/100: 100%|██████████| 1600/1600 [06:57<00:00,  3.83it/s]\n",
      "                                                             \r"
     ]
    },
    {
     "name": "stdout",
     "output_type": "stream",
     "text": [
      "training - loss: 0.2442, dice: 0.7570 | validation - loss: 0.3911, dice: -0.0002"
     ]
    },
    {
     "name": "stderr",
     "output_type": "stream",
     "text": [
      "Epoch 69/100: 100%|██████████| 1600/1600 [06:57<00:00,  3.84it/s]\n",
      "                                                             \r"
     ]
    },
    {
     "name": "stdout",
     "output_type": "stream",
     "text": [
      "training - loss: 0.2436, dice: 0.7574 | validation - loss: 0.3885, dice: -0.0002"
     ]
    },
    {
     "name": "stderr",
     "output_type": "stream",
     "text": [
      "Epoch 70/100: 100%|██████████| 1600/1600 [06:58<00:00,  3.82it/s]\n",
      "                                                             \r"
     ]
    },
    {
     "name": "stdout",
     "output_type": "stream",
     "text": [
      "training - loss: 0.2424, dice: 0.7591 | validation - loss: 0.3851, dice: -0.0002"
     ]
    },
    {
     "name": "stderr",
     "output_type": "stream",
     "text": [
      "Epoch 71/100: 100%|██████████| 1600/1600 [06:57<00:00,  3.83it/s]\n",
      "                                                             \r"
     ]
    },
    {
     "name": "stdout",
     "output_type": "stream",
     "text": [
      "training - loss: 0.2418, dice: 0.7596 | validation - loss: 0.3925, dice: -0.0002"
     ]
    },
    {
     "name": "stderr",
     "output_type": "stream",
     "text": [
      "Epoch 72/100: 100%|██████████| 1600/1600 [06:58<00:00,  3.82it/s]\n",
      "                                                             \r"
     ]
    },
    {
     "name": "stdout",
     "output_type": "stream",
     "text": [
      "training - loss: 0.2408, dice: 0.7605 | validation - loss: 0.3896, dice: -0.0002"
     ]
    },
    {
     "name": "stderr",
     "output_type": "stream",
     "text": [
      "Epoch 73/100: 100%|██████████| 1600/1600 [06:58<00:00,  3.82it/s]\n",
      "                                                             \r"
     ]
    },
    {
     "name": "stdout",
     "output_type": "stream",
     "text": [
      "training - loss: 0.2402, dice: 0.7612 | validation - loss: 0.3853, dice: -0.0002"
     ]
    },
    {
     "name": "stderr",
     "output_type": "stream",
     "text": [
      "Epoch 74/100: 100%|██████████| 1600/1600 [06:57<00:00,  3.83it/s]\n",
      "                                                             \r"
     ]
    },
    {
     "name": "stdout",
     "output_type": "stream",
     "text": [
      "training - loss: 0.2394, dice: 0.7622 | validation - loss: 0.3902, dice: -0.0001"
     ]
    },
    {
     "name": "stderr",
     "output_type": "stream",
     "text": [
      "Epoch 75/100: 100%|██████████| 1600/1600 [06:57<00:00,  3.83it/s]\n",
      "                                                             \r"
     ]
    },
    {
     "name": "stdout",
     "output_type": "stream",
     "text": [
      "training - loss: 0.2383, dice: 0.7626 | validation - loss: 0.3953, dice: -0.0001"
     ]
    },
    {
     "name": "stderr",
     "output_type": "stream",
     "text": [
      "Epoch 76/100: 100%|██████████| 1600/1600 [06:57<00:00,  3.84it/s]\n",
      "                                                             \r"
     ]
    },
    {
     "name": "stdout",
     "output_type": "stream",
     "text": [
      "training - loss: 0.2374, dice: 0.7639 | validation - loss: 0.3880, dice: -0.0001"
     ]
    },
    {
     "name": "stderr",
     "output_type": "stream",
     "text": [
      "Epoch 77/100: 100%|██████████| 1600/1600 [06:57<00:00,  3.83it/s]\n",
      "                                                             \r"
     ]
    },
    {
     "name": "stdout",
     "output_type": "stream",
     "text": [
      "training - loss: 0.2364, dice: 0.7647 | validation - loss: 0.3893, dice: -0.0002"
     ]
    },
    {
     "name": "stderr",
     "output_type": "stream",
     "text": [
      "Epoch 78/100: 100%|██████████| 1600/1600 [06:56<00:00,  3.84it/s]\n",
      "                                                             \r"
     ]
    },
    {
     "name": "stdout",
     "output_type": "stream",
     "text": [
      "training - loss: 0.2360, dice: 0.7654 | validation - loss: 0.3861, dice: -0.0002"
     ]
    },
    {
     "name": "stderr",
     "output_type": "stream",
     "text": [
      "Epoch 79/100: 100%|██████████| 1600/1600 [06:57<00:00,  3.84it/s]\n",
      "                                                             \r"
     ]
    },
    {
     "name": "stdout",
     "output_type": "stream",
     "text": [
      "training - loss: 0.2352, dice: 0.7657 | validation - loss: 0.3874, dice: -0.0002"
     ]
    },
    {
     "name": "stderr",
     "output_type": "stream",
     "text": [
      "Epoch 80/100: 100%|██████████| 1600/1600 [06:58<00:00,  3.82it/s]\n",
      "                                                             \r"
     ]
    },
    {
     "name": "stdout",
     "output_type": "stream",
     "text": [
      "training - loss: 0.2353, dice: 0.7659 | validation - loss: 0.3866, dice: -0.0002"
     ]
    },
    {
     "name": "stderr",
     "output_type": "stream",
     "text": [
      "Epoch 81/100: 100%|██████████| 1600/1600 [06:58<00:00,  3.82it/s]\n",
      "                                                             \r"
     ]
    },
    {
     "name": "stdout",
     "output_type": "stream",
     "text": [
      "training - loss: 0.2336, dice: 0.7676 | validation - loss: 0.3894, dice: -0.0001"
     ]
    },
    {
     "name": "stderr",
     "output_type": "stream",
     "text": [
      "Epoch 82/100: 100%|██████████| 1600/1600 [06:56<00:00,  3.84it/s]\n",
      "                                                             \r"
     ]
    },
    {
     "name": "stdout",
     "output_type": "stream",
     "text": [
      "training - loss: 0.2331, dice: 0.7684 | validation - loss: 0.3818, dice: -0.0002"
     ]
    },
    {
     "name": "stderr",
     "output_type": "stream",
     "text": [
      "Epoch 83/100: 100%|██████████| 1600/1600 [06:57<00:00,  3.83it/s]\n",
      "                                                             \r"
     ]
    },
    {
     "name": "stdout",
     "output_type": "stream",
     "text": [
      "training - loss: 0.2327, dice: 0.7687 | validation - loss: 0.3892, dice: -0.0001"
     ]
    },
    {
     "name": "stderr",
     "output_type": "stream",
     "text": [
      "Epoch 84/100: 100%|██████████| 1600/1600 [06:57<00:00,  3.83it/s]\n",
      "                                                             \r"
     ]
    },
    {
     "name": "stdout",
     "output_type": "stream",
     "text": [
      "training - loss: 0.2318, dice: 0.7692 | validation - loss: 0.3849, dice: -0.0002"
     ]
    },
    {
     "name": "stderr",
     "output_type": "stream",
     "text": [
      "Epoch 85/100: 100%|██████████| 1600/1600 [06:57<00:00,  3.83it/s]\n",
      "                                                             \r"
     ]
    },
    {
     "name": "stdout",
     "output_type": "stream",
     "text": [
      "training - loss: 0.2311, dice: 0.7701 | validation - loss: 0.3893, dice: -0.0001"
     ]
    },
    {
     "name": "stderr",
     "output_type": "stream",
     "text": [
      "Epoch 86/100: 100%|██████████| 1600/1600 [06:57<00:00,  3.84it/s]\n",
      "                                                             \r"
     ]
    },
    {
     "name": "stdout",
     "output_type": "stream",
     "text": [
      "training - loss: 0.2307, dice: 0.7700 | validation - loss: 0.3912, dice: -0.0001"
     ]
    },
    {
     "name": "stderr",
     "output_type": "stream",
     "text": [
      "Epoch 87/100: 100%|██████████| 1600/1600 [06:56<00:00,  3.84it/s]\n",
      "                                                             \r"
     ]
    },
    {
     "name": "stdout",
     "output_type": "stream",
     "text": [
      "training - loss: 0.2299, dice: 0.7713 | validation - loss: 0.3888, dice: -0.0001"
     ]
    },
    {
     "name": "stderr",
     "output_type": "stream",
     "text": [
      "Epoch 88/100: 100%|██████████| 1600/1600 [06:58<00:00,  3.83it/s]\n",
      "                                                             \r"
     ]
    },
    {
     "name": "stdout",
     "output_type": "stream",
     "text": [
      "training - loss: 0.2293, dice: 0.7719 | validation - loss: 0.3874, dice: -0.0001"
     ]
    },
    {
     "name": "stderr",
     "output_type": "stream",
     "text": [
      "Epoch 89/100: 100%|██████████| 1600/1600 [06:57<00:00,  3.83it/s]\n",
      "                                                             \r"
     ]
    },
    {
     "name": "stdout",
     "output_type": "stream",
     "text": [
      "training - loss: 0.2287, dice: 0.7723 | validation - loss: 0.3870, dice: -0.0002"
     ]
    },
    {
     "name": "stderr",
     "output_type": "stream",
     "text": [
      "Epoch 90/100: 100%|██████████| 1600/1600 [06:57<00:00,  3.83it/s]\n",
      "                                                             \r"
     ]
    },
    {
     "name": "stdout",
     "output_type": "stream",
     "text": [
      "training - loss: 0.2279, dice: 0.7729 | validation - loss: 0.3879, dice: -0.0002"
     ]
    },
    {
     "name": "stderr",
     "output_type": "stream",
     "text": [
      "Epoch 91/100: 100%|██████████| 1600/1600 [06:58<00:00,  3.82it/s]\n",
      "                                                             \r"
     ]
    },
    {
     "name": "stdout",
     "output_type": "stream",
     "text": [
      "training - loss: 0.2274, dice: 0.7738 | validation - loss: 0.3936, dice: -0.0002"
     ]
    },
    {
     "name": "stderr",
     "output_type": "stream",
     "text": [
      "Epoch 92/100: 100%|██████████| 1600/1600 [06:57<00:00,  3.83it/s]\n",
      "                                                             \r"
     ]
    },
    {
     "name": "stdout",
     "output_type": "stream",
     "text": [
      "training - loss: 0.2269, dice: 0.7742 | validation - loss: 0.3829, dice: -0.0002"
     ]
    },
    {
     "name": "stderr",
     "output_type": "stream",
     "text": [
      "Epoch 93/100: 100%|██████████| 1600/1600 [06:57<00:00,  3.83it/s]\n",
      "                                                             \r"
     ]
    },
    {
     "name": "stdout",
     "output_type": "stream",
     "text": [
      "training - loss: 0.2262, dice: 0.7747 | validation - loss: 0.3840, dice: -0.0002"
     ]
    },
    {
     "name": "stderr",
     "output_type": "stream",
     "text": [
      "Epoch 94/100: 100%|██████████| 1600/1600 [06:56<00:00,  3.84it/s]\n",
      "                                                             \r"
     ]
    },
    {
     "name": "stdout",
     "output_type": "stream",
     "text": [
      "training - loss: 0.2256, dice: 0.7755 | validation - loss: 0.3905, dice: -0.0001"
     ]
    },
    {
     "name": "stderr",
     "output_type": "stream",
     "text": [
      "Epoch 95/100: 100%|██████████| 1600/1600 [06:56<00:00,  3.84it/s]\n",
      "                                                             \r"
     ]
    },
    {
     "name": "stdout",
     "output_type": "stream",
     "text": [
      "training - loss: 0.2249, dice: 0.7761 | validation - loss: 0.3834, dice: -0.0002"
     ]
    },
    {
     "name": "stderr",
     "output_type": "stream",
     "text": [
      "Epoch 96/100: 100%|██████████| 1600/1600 [06:57<00:00,  3.83it/s]\n",
      "                                                             \r"
     ]
    },
    {
     "name": "stdout",
     "output_type": "stream",
     "text": [
      "training - loss: 0.2242, dice: 0.7768 | validation - loss: 0.3897, dice: -0.0002"
     ]
    },
    {
     "name": "stderr",
     "output_type": "stream",
     "text": [
      "Epoch 97/100: 100%|██████████| 1600/1600 [06:57<00:00,  3.83it/s]\n",
      "                                                             \r"
     ]
    },
    {
     "name": "stdout",
     "output_type": "stream",
     "text": [
      "training - loss: 0.2237, dice: 0.7771 | validation - loss: 0.3979, dice: -0.0001"
     ]
    },
    {
     "name": "stderr",
     "output_type": "stream",
     "text": [
      "Epoch 98/100: 100%|██████████| 1600/1600 [06:57<00:00,  3.83it/s]\n",
      "                                                             \r"
     ]
    },
    {
     "name": "stdout",
     "output_type": "stream",
     "text": [
      "training - loss: 0.2230, dice: 0.7779 | validation - loss: 0.3892, dice: -0.0002"
     ]
    },
    {
     "name": "stderr",
     "output_type": "stream",
     "text": [
      "Epoch 99/100: 100%|██████████| 1600/1600 [06:57<00:00,  3.83it/s]\n",
      "                                                             \r"
     ]
    },
    {
     "name": "stdout",
     "output_type": "stream",
     "text": [
      "training - loss: 0.2226, dice: 0.7784 | validation - loss: 0.3878, dice: -0.0002"
     ]
    },
    {
     "name": "stderr",
     "output_type": "stream",
     "text": [
      "Epoch 100/100: 100%|██████████| 1600/1600 [06:56<00:00,  3.84it/s]\n",
      "                                                             "
     ]
    },
    {
     "name": "stdout",
     "output_type": "stream",
     "text": [
      "training - loss: 0.2220, dice: 0.7789 | validation - loss: 0.3891, dice: -0.0002"
     ]
    },
    {
     "name": "stderr",
     "output_type": "stream",
     "text": [
      "\r"
     ]
    }
   ],
   "source": [
    "def dice_coefficient(pred, target):\n",
    "    smooth = 1e-6\n",
    "    intersection = (pred * target).sum()\n",
    "    return (2. * intersection + smooth) / (pred.sum() + target.sum() + smooth)\n",
    "\n",
    "num_epochs = 100\n",
    "\n",
    "\n",
    "metrics = {'train_loss': [], 'train_dice': [], 'val_loss': [], 'val_dice': []}\n",
    "for epoch in range(num_epochs):\n",
    "    model.train()\n",
    "    epoch_loss = 0.0\n",
    "    epoch_dice = 0.0\n",
    "\n",
    "    for scans, masks in tqdm(train_loader, desc=f'Epoch {epoch+1}/{num_epochs}'):\n",
    "        scans, masks = scans.to('cuda'), masks.to('cuda')\n",
    "\n",
    "        optimizer.zero_grad()\n",
    "        outputs = model(scans)\n",
    "\n",
    "        loss = criterion(outputs, masks)\n",
    "        loss.backward()\n",
    "        optimizer.step()\n",
    "\n",
    "        outputs_bin = torch.sigmoid(outputs) > 0.5\n",
    "        dice = dice_coefficient(outputs_bin, masks)\n",
    "\n",
    "        epoch_loss += loss.item()\n",
    "        epoch_dice += dice.item()\n",
    "\n",
    "    epoch_loss /= len(train_loader)\n",
    "    epoch_dice /= len(train_loader)\n",
    "\n",
    "    train_results = f'training - loss: {epoch_loss:.4f}, dice: {epoch_dice:.4f}'\n",
    "\n",
    "    metrics['train_loss'].append(epoch_loss)\n",
    "    metrics['train_dice'].append(epoch_dice)\n",
    "\n",
    "\n",
    "\n",
    "    model.eval()\n",
    "    val_loss = 0.0\n",
    "    val_dice = 0.0\n",
    "\n",
    "    with tqdm(val_loader, desc='Validating', leave=False) as vbar:\n",
    "        with torch.no_grad():\n",
    "            for test_scans, test_masks in vbar:\n",
    "                test_scans, test_masks = test_scans.to('cuda'), test_masks.to('cuda')\n",
    "                test_outputs = model(test_scans)\n",
    "                val_loss += criterion(test_outputs, test_masks).item()\n",
    "                val_dice += dice_coefficient(test_outputs, test_masks).item()\n",
    "\n",
    "    val_loss /= len(val_loader)\n",
    "    val_dice /= len(val_loader)\n",
    "\n",
    "    val_results = f'validation - loss: {val_loss:.4f}, dice: {val_dice:.4f}'\n",
    "\n",
    "    metrics['val_loss'].append(val_loss)\n",
    "    metrics['val_dice'].append(val_dice)\n",
    "\n",
    "    print(f'{train_results} | {val_results}', end='')\n",
    "    # print(f'Epoch {epoch+1}/{num_epochs}, Train Loss: {epoch_loss:.4f}, Dice Coeff: {epoch_dice:.4f}')"
   ]
  },
  {
   "cell_type": "code",
   "execution_count": 23,
   "metadata": {},
   "outputs": [
    {
     "name": "stdout",
     "output_type": "stream",
     "text": [
      "saved as \"c:\\Users\\mariu\\OneDrive - Kaunas University of Technology\\univeras\\bakalauras\\dicom\\models\\train12\"\n"
     ]
    }
   ],
   "source": [
    "last_model_number = max(int(i[5:]) for i in os.listdir(model_output_folder))\n",
    "selected_folder = f'{model_output_folder}\\\\train{last_model_number+1}'\n",
    "os.mkdir(selected_folder)\n",
    "\n",
    "torch.save(model.state_dict(), f'{selected_folder}\\\\model.pth')\n",
    "with open(f'{selected_folder}\\\\metrics.json', 'w') as f:\n",
    "    json.dump(metrics, f, indent=4)\n",
    "\n",
    "print(f'saved as \\\"{selected_folder}\\\"')"
   ]
  },
  {
   "cell_type": "code",
   "execution_count": null,
   "metadata": {},
   "outputs": [],
   "source": [
    "print(f'{selected_folder}\\\\model.pth')\n",
    "print(metrics)\n",
    "model.load_state_dict(torch.load(f'{selected_folder}\\\\model.pth'))\n",
    "with open(f'{selected_folder}\\\\metrics.json', 'r') as f:\n",
    "    metrics = json.load(f)"
   ]
  },
  {
   "cell_type": "code",
   "execution_count": 20,
   "metadata": {},
   "outputs": [
    {
     "data": {
      "image/png": "[encoded data removed]",
      "text/plain": [
       "<Figure size 1000x800 with 1 Axes>"
      ]
     },
     "metadata": {},
     "output_type": "display_data"
    }
   ],
   "source": [
    "plt.figure(figsize=(10, 8))\n",
    "for key in metrics:\n",
    "    plt.plot(metrics[key])\n",
    "\n",
    "plt.ylim([-0.1, 1.1])\n",
    "plt.grid(which='both')\n",
    "plt.legend(metrics.keys())\n",
    "plt.show()"
   ]
  },
  {
   "cell_type": "code",
   "execution_count": 22,
   "metadata": {},
   "outputs": [
    {
     "name": "stderr",
     "output_type": "stream",
     "text": [
      "                                                          "
     ]
    },
    {
     "name": "stdout",
     "output_type": "stream",
     "text": [
      "loss: 0.3840697990357876\n",
      "dice: -0.00021501523719393844\n"
     ]
    },
    {
     "name": "stderr",
     "output_type": "stream",
     "text": [
      "\r"
     ]
    }
   ],
   "source": [
    "model.eval()\n",
    "test_loss = 0.0\n",
    "test_dice = 0.0\n",
    "\n",
    "with tqdm(test_loader, desc='Testing', leave=False) as vbar:\n",
    "    with torch.no_grad():\n",
    "        for test_scans, test_masks in vbar:\n",
    "            test_scans, test_masks = test_scans.to('cuda'), test_masks.to('cuda')\n",
    "            test_outputs = model(test_scans)\n",
    "            test_loss += criterion(test_outputs, test_masks).item()\n",
    "            test_dice += dice_coefficient(test_outputs, test_masks).item()\n",
    "\n",
    "print(f'loss: {test_loss/len(test_loader)}')\n",
    "print(f'dice: {test_dice/len(test_loader)}')"
   ]
  }
 ],
 "metadata": {
  "kernelspec": {
   "display_name": "yolo",
   "language": "python",
   "name": "python3"
  },
  "language_info": {
   "codemirror_mode": {
    "name": "ipython",
    "version": 3
   },
   "file_extension": ".py",
   "mimetype": "text/x-python",
   "name": "python",
   "nbconvert_exporter": "python",
   "pygments_lexer": "ipython3",
   "version": "3.11.11"
  }
 },
 "nbformat": 4,
 "nbformat_minor": 2
}
