{
 "cells": [
  {
   "cell_type": "code",
   "execution_count": 112,
   "id": "cfe2f61c",
   "metadata": {},
   "outputs": [],
   "source": [
    "from tqdm import tqdm\n",
    "from array_lib import *\n",
    "from skimage.transform import resize\n",
    "from ply_creation_lib import create_ply\n",
    "from skimage.measure import block_reduce\n",
    "from numpy.lib.stride_tricks import sliding_window_view\n",
    "import matplotlib.pyplot as plt\n",
    "import pydicom as dicom\n",
    "import nibabel as nib\n",
    "import torchio as tio\n",
    "import numpy as np\n",
    "import cv2 as cv\n",
    "import itertools\n",
    "import pickle\n",
    "import shutil\n",
    "import time\n",
    "import copy\n",
    "import json\n",
    "import os"
   ]
  },
  {
   "cell_type": "code",
   "execution_count": 127,
   "id": "b0cba717",
   "metadata": {},
   "outputs": [],
   "source": [
    "np.random.seed(35138)\n",
    "\n",
    "folder = f'{os.getcwd()}\\\\annotations'\n",
    "result_folder = f'd:\\\\dicom\\\\calcinate_dataset\\\\base'\n",
    "augmented_folder = f'd:\\\\dicom\\\\calcinate_dataset\\\\augmented'\n",
    "vessels = [i for i in os.listdir(folder) if 'annotation' in i]"
   ]
  },
  {
   "cell_type": "code",
   "execution_count": 111,
   "id": "103852ac",
   "metadata": {},
   "outputs": [
    {
     "name": "stderr",
     "output_type": "stream",
     "text": [
      "with: 100%|██████████| 36/36 [00:00<00:00, 347.60it/s]\n",
      "without: 100%|██████████| 364/364 [00:00<00:00, 523.43it/s]\n"
     ]
    },
    {
     "name": "stdout",
     "output_type": "stream",
     "text": [
      "36\n"
     ]
    },
    {
     "name": "stderr",
     "output_type": "stream",
     "text": [
      "with: 100%|██████████| 40/40 [00:00<00:00, 519.48it/s]"
     ]
    },
    {
     "name": "stdout",
     "output_type": "stream",
     "text": [
      "364\n"
     ]
    },
    {
     "name": "stderr",
     "output_type": "stream",
     "text": [
      "\n",
      "without: 100%|██████████| 317/317 [00:00<00:00, 512.12it/s]\n"
     ]
    },
    {
     "name": "stdout",
     "output_type": "stream",
     "text": [
      "76\n"
     ]
    },
    {
     "name": "stderr",
     "output_type": "stream",
     "text": [
      "with: 100%|██████████| 20/20 [00:00<00:00, 487.87it/s]\n"
     ]
    },
    {
     "name": "stdout",
     "output_type": "stream",
     "text": [
      "681\n"
     ]
    },
    {
     "name": "stderr",
     "output_type": "stream",
     "text": [
      "without: 100%|██████████| 261/261 [00:00<00:00, 505.82it/s]\n"
     ]
    },
    {
     "name": "stdout",
     "output_type": "stream",
     "text": [
      "96\n"
     ]
    },
    {
     "name": "stderr",
     "output_type": "stream",
     "text": [
      "with: 0it [00:00, ?it/s]\n"
     ]
    },
    {
     "name": "stdout",
     "output_type": "stream",
     "text": [
      "942\n"
     ]
    },
    {
     "name": "stderr",
     "output_type": "stream",
     "text": [
      "without: 100%|██████████| 578/578 [00:01<00:00, 474.16it/s]\n"
     ]
    }
   ],
   "source": [
    "def recreate_folder(output_folder):\n",
    "    if os.path.exists(output_folder):\n",
    "        shutil.rmtree(output_folder)\n",
    "    os.mkdir(f'{output_folder}')\n",
    "    os.mkdir(f'{output_folder}\\\\vessels')\n",
    "    os.mkdir(f'{output_folder}\\\\calcinates')\n",
    "\n",
    "def extract_joint_patches(scan, vessel_mask, calcinate_mask, patch_size=64, stride=32, vessel_thresh=0):\n",
    "    # Sliding window views\n",
    "    scan_patches = sliding_window_view(scan, (patch_size,)*3)[::stride, ::stride, ::stride]\n",
    "    vessel_patches = sliding_window_view(vessel_mask, (patch_size,)*3)[::stride, ::stride, ::stride]\n",
    "    calc_patches = sliding_window_view(calcinate_mask, (patch_size,)*3)[::stride, ::stride, ::stride]\n",
    "\n",
    "    # Reshape into (N, 64, 64, 64)\n",
    "    scan_patches = scan_patches.reshape(-1, patch_size, patch_size, patch_size)\n",
    "    vessel_patches = vessel_patches.reshape(-1, patch_size, patch_size, patch_size)\n",
    "    calc_patches = calc_patches.reshape(-1, patch_size, patch_size, patch_size)\n",
    "\n",
    "    # Filter: patches that contain some vessels\n",
    "    vessel_sums = np.count_nonzero(vessel_patches, axis=(1, 2, 3))\n",
    "    keep_idx = np.where(vessel_sums > vessel_thresh)[0]\n",
    "\n",
    "    scans = scan_patches[keep_idx]\n",
    "    vessels = vessel_patches[keep_idx]\n",
    "    calcinates = calc_patches[keep_idx]\n",
    "    return (scans, vessels, calcinates)\n",
    "\n",
    "def save_data(filename: str, array: np.ndarray):\n",
    "    np.save(filename, array)\n",
    "\n",
    "def save_datums(split_data: tuple[list]):\n",
    "    with_calcinates = [d for d in zip(*split_data) if np.sum(d[2]) > 50]\n",
    "    current_files = [i for i in os.listdir(f'{result_folder}\\\\vessels') if i.startswith('1.')]\n",
    "    counter = 0\n",
    "    if len(current_files) > 0:\n",
    "        counter = max([int(i.split('.')[1]) for i in current_files]) + 1\n",
    "        print(counter)\n",
    "    for scan, vessel, calc in tqdm(with_calcinates, desc='with'):\n",
    "        colored_vessel = np.where(vessel, scan, 0)\n",
    "        save_data(f'{result_folder}\\\\vessels\\\\1.{counter}.npy', colored_vessel)\n",
    "        save_data(f'{result_folder}\\\\calcinates\\\\1.{counter}.npy', calc)\n",
    "        counter += 1\n",
    "\n",
    "    without_calcinates = [d for d in zip(*split_data) if np.sum(d[2]) == 0]\n",
    "    current_files = [i for i in os.listdir(f'{result_folder}\\\\vessels') if i.startswith('0.')]\n",
    "    counter = 0\n",
    "    if len(current_files) > 0:\n",
    "        counter = max([int(i.split('.')[1]) for i in current_files]) + 1\n",
    "        print(counter)\n",
    "    for scan, vessel, calc in tqdm(without_calcinates, desc='without'):\n",
    "        colored_vessel = np.where(vessel, scan, 0)\n",
    "        save_data(f'{result_folder}\\\\vessels\\\\0.{counter}.npy', colored_vessel)\n",
    "        save_data(f'{result_folder}\\\\calcinates\\\\0.{counter}.npy', calc)\n",
    "        counter += 1\n",
    "\n",
    "possible = ['20241209_17', '20250222_37', '20250224_45', '20250224_46']\n",
    "recreate_folder(result_folder)\n",
    "for i, selected in enumerate(possible):\n",
    "    vessel_mask: np.ndarray = np.load(f'{folder}\\\\{selected}_annotation.npy').astype(bool)\n",
    "    calcinate_mask: np.ndarray = np.load(f'{folder}\\\\{selected}_calcinates.npy').astype(bool)\n",
    "    image: np.ndarray = np.load(f'{folder}\\\\{selected}_main.npy')\n",
    "    split_data = extract_joint_patches(image, vessel_mask, calcinate_mask, patch_size=64, stride=32, vessel_thresh=50)\n",
    "    save_datums(split_data)\n"
   ]
  },
  {
   "cell_type": "code",
   "execution_count": 131,
   "id": "1f5db684",
   "metadata": {},
   "outputs": [
    {
     "name": "stderr",
     "output_type": "stream",
     "text": [
      "augmenting data: 100%|██████████| 192/192 [21:17<00:00,  6.65s/it]\n"
     ]
    }
   ],
   "source": [
    "def read_datum(folder: str, filename: str) -> None:\n",
    "    scan = np.load(f'{folder}\\\\vessels\\\\{filename}')\n",
    "    mask = np.load(f'{folder}\\\\calcinates\\\\{filename}')\n",
    "    return (scan, mask)\n",
    "\n",
    "def save_datum(folder: str, id: int, datum: tuple[np.ndarray, np.ndarray]) -> None:\n",
    "    scan = np.ascontiguousarray(datum[0].astype(np.float32))\n",
    "    np.save(f'{folder}\\\\vessels\\\\{id}.npy', scan)\n",
    "    mask = np.ascontiguousarray(datum[1].astype(np.float32))\n",
    "    np.save(f'{folder}\\\\calcinates\\\\{id}.npy', mask)\n",
    "\n",
    "def define_augmentations():\n",
    "    return tio.Compose([\n",
    "        tio.RandomGamma(p=0.5),\n",
    "        tio.RandomNoise(mean=0, std=0.1, p=0.5),\n",
    "        tio.RandomElasticDeformation(p=0.2),\n",
    "        tio.RandomAffine(\n",
    "            scales=(0.9, 1.1),\n",
    "            p=0.5)])\n",
    "\n",
    "def get_subject(scan: np.ndarray, mask: np.ndarray) -> tio.Subject:\n",
    "    return tio.Subject(\n",
    "        scan=tio.ScalarImage(tensor=np.expand_dims(scan, axis=0)),\n",
    "        mask=tio.LabelMap(tensor=np.expand_dims(mask, axis=0)))\n",
    "\n",
    "def augment(scan: np.ndarray, mask: np.ndarray) -> tuple[np.ndarray, np.ndarray]:\n",
    "    subject = get_subject(scan, mask)\n",
    "    transform = define_augmentations()\n",
    "    augmented_subject = transform(subject)\n",
    "    aug_scan: np.ndarray = augmented_subject['scan'].numpy()[0]\n",
    "    aug_mask: np.ndarray = augmented_subject['mask'].numpy()[0]\n",
    "    return (aug_scan, aug_mask)\n",
    "\n",
    "def generate_48_transform_params():\n",
    "    \"\"\"Returns list of unique 3D rotation+flip transformations as sequences.\"\"\"\n",
    "    base = np.arange(8).reshape(2, 2, 2)\n",
    "    seen = set()\n",
    "    transforms = []\n",
    "\n",
    "    axes_pairs = [(0, 1), (0, 2), (1, 2)]\n",
    "    ks = [1, 2, 3]  # 0 is identity, so skip to avoid duplicates from in-place\n",
    "    flips = [False, True]\n",
    "\n",
    "    for (ax1, k1), (ax2, k2), flip in itertools.product(\n",
    "        itertools.product(axes_pairs, ks),\n",
    "        itertools.product(axes_pairs, ks),\n",
    "        flips):\n",
    "        vol = base.copy()\n",
    "        vol = np.rot90(vol, k=k1, axes=ax1)\n",
    "        vol = np.rot90(vol, k=k2, axes=ax2)\n",
    "        if flip:\n",
    "            vol = np.flip(vol, axis=0)\n",
    "\n",
    "        signature = vol.tobytes()\n",
    "        if signature not in seen:\n",
    "            seen.add(signature)\n",
    "            transforms.append(((k1, ax1), (k2, ax2), flip))\n",
    "\n",
    "    return transforms\n",
    "\n",
    "def apply_transform(volume, transform):\n",
    "    (k1, ax1), (k2, ax2), flip = transform\n",
    "    v = np.rot90(volume, k=k1, axes=ax1)\n",
    "    v = np.rot90(v, k=k2, axes=ax2)\n",
    "    if flip:\n",
    "        v = np.flip(v, axis=0)\n",
    "    return v\n",
    "\n",
    "def augment_vessels(folder: str, output_folder: str):\n",
    "    data_files = os.listdir(f'{folder}\\\\vessels')\n",
    "    no_calc = [i for i in data_files if i.startswith('0.')]\n",
    "    calc = [i for i in data_files if i.startswith('1.')]\n",
    "    no_calc_reduced = list(np.random.choice(no_calc, len(calc), replace=False))\n",
    "    both_classes = calc + no_calc_reduced\n",
    "\n",
    "    all_transforms = generate_48_transform_params()\n",
    "\n",
    "    counter = 0\n",
    "    for filename in tqdm(both_classes, desc=f'augmenting data'):\n",
    "        scan, mask = read_datum(result_folder, filename)\n",
    "        \n",
    "        for transform in all_transforms:\n",
    "            rotated_scan = np.ascontiguousarray(apply_transform(scan, transform))\n",
    "            rotated_mask = np.ascontiguousarray(apply_transform(mask, transform))\n",
    "            aug_scan, aug_mask = augment(rotated_scan, rotated_mask)\n",
    "            aug_scan = aug_scan.astype(np.int16)\n",
    "            aug_mask = aug_mask.astype(bool)\n",
    "            save_datum(output_folder, counter, (aug_scan, aug_mask))\n",
    "            counter += 1\n",
    "\n",
    "recreate_folder(augmented_folder)\n",
    "augment_vessels(result_folder, augmented_folder)\n",
    "    "
   ]
  }
 ],
 "metadata": {
  "kernelspec": {
   "display_name": "dicom",
   "language": "python",
   "name": "python3"
  },
  "language_info": {
   "codemirror_mode": {
    "name": "ipython",
    "version": 3
   },
   "file_extension": ".py",
   "mimetype": "text/x-python",
   "name": "python",
   "nbconvert_exporter": "python",
   "pygments_lexer": "ipython3",
   "version": "3.12.9"
  }
 },
 "nbformat": 4,
 "nbformat_minor": 5
}
