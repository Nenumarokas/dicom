{
 "cells": [
  {
   "cell_type": "code",
   "execution_count": 14,
   "id": "d9fa1bce",
   "metadata": {},
   "outputs": [],
   "source": [
    "from tqdm import tqdm\n",
    "from skimage.transform import resize\n",
    "from ply_creation_lib import create_ply\n",
    "from skimage.measure import block_reduce\n",
    "import matplotlib.pyplot as plt\n",
    "import pydicom as dicom\n",
    "import nibabel as nib\n",
    "import torchio as tio\n",
    "import numpy as np\n",
    "import pickle\n",
    "import time\n",
    "import copy\n",
    "import json\n",
    "import os"
   ]
  },
  {
   "cell_type": "code",
   "execution_count": 18,
   "id": "ab08efb9",
   "metadata": {},
   "outputs": [
    {
     "name": "stdout",
     "output_type": "stream",
     "text": [
      "nii spacing: (0.37695312, 0.37695312, 0.5)\n",
      "(550, 512, 512)\n"
     ]
    },
    {
     "name": "stderr",
     "output_type": "stream",
     "text": [
      "  1%|▋                                                | 891072/60270665 [00:02<02:58, 332914.49it/s]\n"
     ]
    },
    {
     "ename": "KeyboardInterrupt",
     "evalue": "",
     "output_type": "error",
     "traceback": [
      "\u001b[31m---------------------------------------------------------------------------\u001b[39m",
      "\u001b[31mKeyboardInterrupt\u001b[39m                         Traceback (most recent call last)",
      "\u001b[36mCell\u001b[39m\u001b[36m \u001b[39m\u001b[32mIn[18]\u001b[39m\u001b[32m, line 54\u001b[39m\n\u001b[32m     51\u001b[39m \u001b[38;5;28mprint\u001b[39m(nii_array.shape)\n\u001b[32m     53\u001b[39m \u001b[38;5;66;03m# create_ply(dcm_array, 'a_dcm.ply')\u001b[39;00m\n\u001b[32m---> \u001b[39m\u001b[32m54\u001b[39m \u001b[43mcreate_ply\u001b[49m\u001b[43m(\u001b[49m\u001b[43mnii_array\u001b[49m\u001b[43m,\u001b[49m\u001b[43m \u001b[49m\u001b[33;43m'\u001b[39;49m\u001b[33;43ma_nii.ply\u001b[39;49m\u001b[33;43m'\u001b[39;49m\u001b[43m)\u001b[49m\n",
      "\u001b[36mFile \u001b[39m\u001b[32mc:\\Users\\mariu\\OneDrive - Kaunas University of Technology\\univeras\\bakalauras\\dicom\\ply_creation_lib.py:127\u001b[39m, in \u001b[36mcreate_ply\u001b[39m\u001b[34m(data, output_file, preserve_color)\u001b[39m\n\u001b[32m    125\u001b[39m data_as_tuples = np.column_stack((*np.nonzero(mask), data[mask]))\n\u001b[32m    126\u001b[39m create_new_ply(output_file, normaled=\u001b[38;5;28;01mFalse\u001b[39;00m, colored=\u001b[38;5;28;01mTrue\u001b[39;00m)\n\u001b[32m--> \u001b[39m\u001b[32m127\u001b[39m \u001b[43mwrite_to_ply\u001b[49m\u001b[43m(\u001b[49m\u001b[43moutput_file\u001b[49m\u001b[43m,\u001b[49m\u001b[43m \u001b[49m\u001b[43mdata_as_tuples\u001b[49m\u001b[43m,\u001b[49m\u001b[43m \u001b[49m\u001b[43mheight_ratio\u001b[49m\u001b[43m=\u001b[49m\u001b[32;43m0.66\u001b[39;49m\u001b[43m,\u001b[49m\u001b[43m \u001b[49m\u001b[43mcolor\u001b[49m\u001b[43m=\u001b[49m\u001b[43m-\u001b[49m\u001b[32;43m1\u001b[39;49m\u001b[43m \u001b[49m\u001b[38;5;28;43;01mif\u001b[39;49;00m\u001b[43m \u001b[49m\u001b[43mpreserve_color\u001b[49m\u001b[43m \u001b[49m\u001b[38;5;28;43;01melse\u001b[39;49;00m\u001b[43m \u001b[49m\u001b[32;43m255\u001b[39;49m\u001b[43m)\u001b[49m\n\u001b[32m    128\u001b[39m finalize_ply(output_file, \u001b[38;5;28mlen\u001b[39m(data_as_tuples))\n",
      "\u001b[36mFile \u001b[39m\u001b[32mc:\\Users\\mariu\\OneDrive - Kaunas University of Technology\\univeras\\bakalauras\\dicom\\ply_creation_lib.py:60\u001b[39m, in \u001b[36mwrite_to_ply\u001b[39m\u001b[34m(result_file, data_as_tuples, height_ratio, color)\u001b[39m\n\u001b[32m     57\u001b[39m \u001b[38;5;28;01mif\u001b[39;00m selected_color < \u001b[32m0\u001b[39m \u001b[38;5;129;01mor\u001b[39;00m selected_color > \u001b[32m255\u001b[39m:\n\u001b[32m     58\u001b[39m     selected_color = \u001b[32m0\u001b[39m\n\u001b[32m---> \u001b[39m\u001b[32m60\u001b[39m f.write(struct.pack(\u001b[33m'\u001b[39m\u001b[33m<fff\u001b[39m\u001b[33m'\u001b[39m, *location))\n\u001b[32m     61\u001b[39m f.write(struct.pack(\u001b[33m'\u001b[39m\u001b[33m<BBB\u001b[39m\u001b[33m'\u001b[39m, selected_color, selected_color, selected_color))\n",
      "\u001b[31mKeyboardInterrupt\u001b[39m: "
     ]
    }
   ],
   "source": [
    "def read_nii(file_path: str) -> np.ndarray:\n",
    "    nii = nib.load(file_path)\n",
    "    data = nii.get_fdata()\n",
    "    original_spacing = nii.header.get_zooms()\n",
    "    print(f'nii spacing: {original_spacing}')\n",
    "\n",
    "    target_spacing = 0.25\n",
    "\n",
    "    # Compute new z size\n",
    "    z_zoom = original_spacing[2] / target_spacing\n",
    "    new_z = int(round(data.shape[2] * z_zoom))\n",
    "\n",
    "    # Resize only along z-axis\n",
    "    resampled_data = resize(\n",
    "        data,\n",
    "        output_shape=(data.shape[0], data.shape[1], new_z),\n",
    "        order=1,\n",
    "        preserve_range=True,\n",
    "        anti_aliasing=False\n",
    "    ).astype(data.dtype)\n",
    "\n",
    "    resampled_data[resampled_data < 0] = 0\n",
    "\n",
    "    data = np.rot90(resampled_data, k=1, axes=(0, 2))\n",
    "\n",
    "\n",
    "\n",
    "    return data\n",
    "\n",
    "def read_dicom(input_folder: str) -> np.ndarray:\n",
    "    files: list[str] = os.listdir(input_folder)\n",
    "    data = [dicom.dcmread(f'{input_folder}\\\\{file}') for file in files if file.endswith('.dcm')]\n",
    "\n",
    "\n",
    "    xy_spacing = data[0].PixelSpacing\n",
    "    z_spacing = data[0].ImagePositionPatient[2] - data[1].ImagePositionPatient[2]\n",
    "    print(z_spacing)\n",
    "    print(f'dcm spacing: {list(xy_spacing) + [z_spacing]}')\n",
    "\n",
    "    image = np.array([dicom.pixel_array(datum) for datum in data])\n",
    "    image[image < 0] = 0\n",
    "    return image\n",
    "\n",
    "dicom_folder = '20240923_84'\n",
    "nii_file = 'd:\\\\dicom\\\\nii_dataset_original_data\\\\all\\\\1.img.nii.gz'\n",
    "\n",
    "# dcm_array = read_dicom(dicom_folder)\n",
    "# print(dcm_array.shape)\n",
    "\n",
    "nii_array = read_nii(nii_file)\n",
    "print(nii_array.shape)\n",
    "\n",
    "# create_ply(dcm_array, 'a_dcm.ply')\n",
    "create_ply(nii_array, 'a_nii.ply')"
   ]
  }
 ],
 "metadata": {
  "kernelspec": {
   "display_name": "yolo",
   "language": "python",
   "name": "python3"
  },
  "language_info": {
   "codemirror_mode": {
    "name": "ipython",
    "version": 3
   },
   "file_extension": ".py",
   "mimetype": "text/x-python",
   "name": "python",
   "nbconvert_exporter": "python",
   "pygments_lexer": "ipython3",
   "version": "3.11.11"
  }
 },
 "nbformat": 4,
 "nbformat_minor": 5
}
