{
 "cells": [
  {
   "cell_type": "code",
   "execution_count": null,
   "metadata": {},
   "outputs": [],
   "source": [
    "from tqdm import tqdm\n",
    "from array_lib import *\n",
    "from point3d_lib import Point\n",
    "from ply_creation_lib import create_ply\n",
    "from skimage.morphology import skeletonize\n",
    "import matplotlib.pyplot as plt\n",
    "import pydicom as dicom\n",
    "import numpy as np\n",
    "import itertools\n",
    "import struct\n",
    "import pickle\n",
    "import time\n",
    "import os"
   ]
  },
  {
   "cell_type": "code",
   "execution_count": null,
   "metadata": {},
   "outputs": [],
   "source": [
    "\"\"\"\n",
    "input_folder - must contain dcm files directly within it and only of one scan.\n",
    "offsets - range of colors to include\n",
    "seed - the entry coordinate to the aorta, must be the center.\n",
    "threshold - normalized image color lower threshold\n",
    "image_center - point between the arteries of interest\n",
    "\"\"\"\n",
    "input_folder = f'{os.getcwd()}\\\\20240923'\n",
    "offsets = (-15, 20)\n",
    "seed = (20, 310, 160)\n",
    "image_center = (150, 280, 230)\n",
    "min_skeleton_length = 100"
   ]
  },
  {
   "cell_type": "code",
   "execution_count": null,
   "metadata": {},
   "outputs": [],
   "source": [
    "def read_dicom(input_folder: str) -> np.ndarray:\n",
    "    files: list[str] = os.listdir(input_folder)\n",
    "    data = [dicom.dcmread(f'{input_folder}\\\\{file}') for file in files if file.endswith('.dcm')]\n",
    "    image = np.array([dicom.pixel_array(datum) for datum in data])\n",
    "    return image\n",
    "\n",
    "def normalize_image_colors(image: np.ndarray) -> np.ndarray:\n",
    "    min_val = np.min(image)\n",
    "    max_val = np.max(image)\n",
    "    image = (image - min_val) / (max_val - min_val) * 255\n",
    "    return image\n",
    "\n",
    "image = normalize_image_colors(read_dicom(input_folder))"
   ]
  },
  {
   "cell_type": "code",
   "execution_count": null,
   "metadata": {},
   "outputs": [],
   "source": [
    "filtered_mask = custom_floodfill_3d(image, seed_point=seed, new_value=-1, offsets=offsets)\n",
    "eroded_mask = erode_3d(filtered_mask)\n",
    "heartless_mask = remove_heart(eroded_mask)\n",
    "trimmed_mask = distinguish_3d(heartless_mask)"
   ]
  },
  {
   "cell_type": "code",
   "execution_count": null,
   "metadata": {},
   "outputs": [],
   "source": [
    "skeleton_mask = skeletonize(trimmed_mask)\n",
    "closest_skeletons = find_closest_skeletons(skeleton_mask, image_center)\n",
    "skeleton_points = np.concatenate([i[0] for i in closest_skeletons])\n",
    "filtered_skeleton_mask = np.zeros_like(skeleton_mask).astype(bool)\n",
    "filtered_skeleton_mask[skeleton_points[:, 0], skeleton_points[:, 1], skeleton_points[:, 2]] = True\n",
    "\n",
    "selected_skeletons = floodfill_nearby_skeletons(heartless_mask, closest_skeletons)"
   ]
  },
  {
   "cell_type": "code",
   "execution_count": null,
   "metadata": {},
   "outputs": [],
   "source": [
    "def add_skeleton_points(skeletons: list[np.ndarray], filtered_skeleton_mask: np.ndarray, nearby_pixels: list) -> list[Point]:\n",
    "    \"\"\"\n",
    "    Convert the skeleton mask into skeleton structures.\n",
    "    \"\"\"\n",
    "    skeleton: list[Point] = []\n",
    "    for skeleton_point in skeletons:\n",
    "        skeleton.append(Point(skeleton_point))\n",
    "\n",
    "    for point in skeleton:\n",
    "        point_surround = point.get_surround_points(nearby_pixels)\n",
    "        nearby_points = [p for p in point_surround if filtered_skeleton_mask[p]]\n",
    "        for p in nearby_points:\n",
    "            if not filtered_skeleton_mask[p]:\n",
    "                continue\n",
    "            for another_point in skeleton:\n",
    "                if np.array_equal(another_point.coordinates, p):\n",
    "                    point.add_nearby(another_point)\n",
    "                    break\n",
    "        point.check_state()\n",
    "    return skeleton\n",
    "\n",
    "skeletons = [s[0] for s in closest_skeletons]\n",
    "\n",
    "nearby_pixels = list(itertools.product([-1, 0, 1], repeat=3))\n",
    "nearby_pixels.remove((0, 0, 0))\n",
    "\n",
    "left_skeleton = add_skeleton_points(skeletons[0], filtered_skeleton_mask, nearby_pixels)\n",
    "right_skeleton = add_skeleton_points(skeletons[1], filtered_skeleton_mask, nearby_pixels)"
   ]
  },
  {
   "cell_type": "code",
   "execution_count": null,
   "metadata": {},
   "outputs": [],
   "source": [
    "def remove_skeleton_close_ends(skeleton: list[Point], closeness: int = 20):\n",
    "    \"\"\"\n",
    "    Remove skeleton ends if they are closer than some 20 points of distance to the nearest cross.\n",
    "    \"\"\"    \n",
    "    removed = True\n",
    "    while removed:\n",
    "        removed = False\n",
    "        skeleton_ends = [p for p in skeleton if p.end]\n",
    "        for end in skeleton_ends:\n",
    "            if end.is_cross_close(closeness):\n",
    "                end.remove_point()\n",
    "                removed = True\n",
    "    skeleton = [p for p in skeleton if p.value > -1]\n",
    "    return skeleton\n",
    "\n",
    "right_skeleton = remove_skeleton_close_ends(right_skeleton)\n",
    "left_skeleton = remove_skeleton_close_ends(left_skeleton)"
   ]
  },
  {
   "cell_type": "code",
   "execution_count": null,
   "metadata": {},
   "outputs": [],
   "source": [
    "def find_closest_point(skeleton: list[Point], center_point: Point) -> Point:\n",
    "    \"\"\"\n",
    "    Find the closest points of a skeleton to another point.\n",
    "    \"\"\"\n",
    "    closest_point = skeleton[0]\n",
    "    min_distance = 999999\n",
    "    \n",
    "    for point in skeleton:\n",
    "        dist = center_point.distance_to_point(another=point)\n",
    "        if dist < min_distance:\n",
    "            closest_point = point\n",
    "            min_distance = dist\n",
    "    \n",
    "    return closest_point\n",
    "\n",
    "center_point = Point(image_center)\n",
    "right_head = find_closest_point(right_skeleton, center_point)\n",
    "left_head = find_closest_point(left_skeleton, center_point)"
   ]
  },
  {
   "cell_type": "code",
   "execution_count": null,
   "metadata": {},
   "outputs": [],
   "source": [
    "def find_path_to_ends(skeletons: list[tuple[list[Point], Point]], min_skeleton_length: int):\n",
    "    paths = []\n",
    "    for skeleton, head, name in skeletons:\n",
    "        ends = [p for p in skeleton if p.end]\n",
    "        for end in ends:\n",
    "            path = head.path_to_end(end)[1]\n",
    "            if len(path) < min_skeleton_length:\n",
    "                continue\n",
    "            paths.append((name, path))\n",
    "    return paths\n",
    "\n",
    "skeletons = [(left_skeleton, left_head, 'left'), (right_skeleton, right_head, 'right')]\n",
    "branches = find_path_to_ends(skeletons, min_skeleton_length)"
   ]
  },
  {
   "cell_type": "code",
   "execution_count": null,
   "metadata": {},
   "outputs": [],
   "source": [
    "def display_branches(branches: list[list[list[Point]]]):\n",
    "    for i, named_branch in enumerate(branches):\n",
    "        branch_name, branch = named_branch\n",
    "        path_mask = np.zeros_like(image).astype(bool)\n",
    "        for point in branch:\n",
    "            path_mask[tuple(point.coordinates)] = True\n",
    "        create_ply(path_mask, f'{branch_name}_branch_{i}.ply')\n",
    "        \n",
    "display_branches(branches)"
   ]
  },
  {
   "cell_type": "code",
   "execution_count": null,
   "metadata": {},
   "outputs": [],
   "source": [
    "def display_mpr(named_branch: tuple[str, list[Point]]):\n",
    "    branch_name, branch = named_branch\n",
    "    mpr_test_x = np.zeros((image.shape[0], len(branch)))\n",
    "    mpr_test_y = np.zeros((image.shape[1], len(branch)))\n",
    "    mpr_test_z = np.zeros((image.shape[2], len(branch)))\n",
    "\n",
    "    for i, p in enumerate(branch):\n",
    "        coords = p.coordinates\n",
    "        x_pixels = image[:, coords[1], coords[2]]\n",
    "        y_pixels = image[coords[0], :, coords[2]]\n",
    "        z_pixels = image[coords[0], coords[1], :]\n",
    "        \n",
    "        mpr_test_x[:, i] = x_pixels\n",
    "        mpr_test_y[:, i] = y_pixels\n",
    "        mpr_test_z[:, i] = z_pixels\n",
    "\n",
    "    fig, axes = plt.subplots(1, 3, figsize=(15, 5))\n",
    "    axes[0].imshow(mpr_test_x, cmap='gray')\n",
    "    axes[1].imshow(mpr_test_y, cmap='gray')\n",
    "    axes[2].imshow(mpr_test_z, cmap='gray')\n",
    "    fig.suptitle(branch_name)\n",
    "    plt.show()\n",
    "    \n",
    "for branch in branches:\n",
    "    display_mpr(branch)"
   ]
  },
  {
   "cell_type": "code",
   "execution_count": null,
   "metadata": {},
   "outputs": [],
   "source": [
    "create_ply(image, f'1.0_image.ply')\n",
    "create_ply(filtered_mask, f'1.1_filtered.ply')\n",
    "create_ply(eroded_mask, f'1.2_eroded.ply')\n",
    "create_ply(heartless_mask, f'1.3_heartless.ply')\n",
    "create_ply(trimmed_mask, f'1.4_trimmed.ply')\n",
    "create_ply(skeleton_mask, f'1.5_skeleton.ply')\n",
    "create_ply(filtered_skeleton_mask, f'1.6_closest_skeletons.ply')"
   ]
  }
 ],
 "metadata": {
  "kernelspec": {
   "display_name": "dicom_to_3d",
   "language": "python",
   "name": "python3"
  },
  "language_info": {
   "codemirror_mode": {
    "name": "ipython",
    "version": 3
   },
   "file_extension": ".py",
   "mimetype": "text/x-python",
   "name": "python",
   "nbconvert_exporter": "python",
   "pygments_lexer": "ipython3",
   "version": "3.12.7"
  }
 },
 "nbformat": 4,
 "nbformat_minor": 2
}
