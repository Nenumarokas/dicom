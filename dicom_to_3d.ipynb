{
 "cells": [
  {
   "cell_type": "code",
   "execution_count": null,
   "metadata": {},
   "outputs": [],
   "source": [
    "from tqdm import tqdm\n",
    "from array_lib import *\n",
    "from point3d_lib import Point\n",
    "from skeleton3d_lib import Skeleton\n",
    "\n",
    "from skimage.morphology import skeletonize\n",
    "from ply_creation_lib import create_ply, create_ply_normals\n",
    "import matplotlib.pyplot as plt\n",
    "import pydicom as dicom\n",
    "import numpy as np\n",
    "import itertools\n",
    "import struct\n",
    "import pickle\n",
    "import time\n",
    "import copy\n",
    "import os"
   ]
  },
  {
   "cell_type": "code",
   "execution_count": null,
   "metadata": {},
   "outputs": [],
   "source": [
    "\"\"\"\n",
    "input_folder - must contain dcm files directly within it and only of one scan.\n",
    "offsets - range of colors to include\n",
    "seed - the entry coordinate to the aorta, must be the center.\n",
    "threshold - normalized image color lower threshold\n",
    "image_center - point between the arteries of interest\n",
    "\"\"\"\n",
    "# input_folder = f'{os.getcwd()}\\\\20241209_46'\n",
    "# offsets = (-8, 20)\n",
    "# seed = (12, 285, 160)\n",
    "\n",
    "# input_folder = f'{os.getcwd()}\\\\20241209_17'\n",
    "# offsets = (-10, 20)\n",
    "# seed = (16, 249, 143)\n",
    "\n",
    "\n",
    "# the middle of the filtered heart contour when selecting skeletons\n",
    "# the line between the seed and the center of a filtered heart contour when looking for head\n",
    "# image_center = (150, 280, 230)\n",
    "# min_skeleton_length = 100\n",
    "\n",
    "\n",
    "\n",
    "\n",
    "\n",
    "input_folder = f'{os.getcwd()}\\\\20240923'\n",
    "offsets = (-15, 20)\n",
    "seed = (20, 310, 160)\n",
    "# the middle of the filtered heart contour when selecting skeletons\n",
    "# the line between the seed and the center of a filtered heart contour when looking for head\n",
    "image_center = (150, 280, 230)\n",
    "min_skeleton_length = 100"
   ]
  },
  {
   "cell_type": "code",
   "execution_count": null,
   "metadata": {},
   "outputs": [],
   "source": [
    "def read_dicom(input_folder: str) -> np.ndarray:\n",
    "    files: list[str] = os.listdir(input_folder)\n",
    "    data = [dicom.dcmread(f'{input_folder}\\\\{file}') for file in files if file.endswith('.dcm')]\n",
    "    image = np.array([dicom.pixel_array(datum) for datum in data])\n",
    "    return image\n",
    "\n",
    "def normalize_image_colors(image: np.ndarray) -> np.ndarray:\n",
    "    image = copy.deepcopy(image)\n",
    "    min_val = np.min(image)\n",
    "    max_val = np.max(image)\n",
    "    image = (image - min_val) / (max_val - min_val) * 255\n",
    "    return image\n",
    "\n",
    "base_image = read_dicom(input_folder)\n",
    "image = normalize_image_colors(base_image)"
   ]
  },
  {
   "cell_type": "code",
   "execution_count": null,
   "metadata": {},
   "outputs": [],
   "source": [
    "filtered_mask = custom_floodfill_3d(image, seed_point=seed, new_value=-1, offsets=offsets)\n",
    "create_ply(filtered_mask, f'1.1_filtered.ply')"
   ]
  },
  {
   "cell_type": "code",
   "execution_count": null,
   "metadata": {},
   "outputs": [],
   "source": [
    "eroded_mask = erode_3d(filtered_mask)\n",
    "create_ply(eroded_mask, f'1.2_eroded.ply')"
   ]
  },
  {
   "cell_type": "code",
   "execution_count": null,
   "metadata": {},
   "outputs": [],
   "source": [
    "heartless_mask = remove_heart(eroded_mask)\n",
    "create_ply(heartless_mask, f'1.3_heartless.ply')"
   ]
  },
  {
   "cell_type": "code",
   "execution_count": null,
   "metadata": {},
   "outputs": [],
   "source": [
    "trimmed_mask = distinguish_3d(heartless_mask)\n",
    "create_ply(trimmed_mask, f'1.4_trimmed.ply')"
   ]
  },
  {
   "cell_type": "code",
   "execution_count": null,
   "metadata": {},
   "outputs": [],
   "source": [
    "skeleton_mask = skeletonize(trimmed_mask)\n",
    "closest_skeletons = find_closest_skeletons(skeleton_mask, image_center)\n",
    "skeleton_points = np.concatenate([i[0] for i in closest_skeletons])\n",
    "filtered_skeleton_mask = np.zeros_like(skeleton_mask).astype(bool)\n",
    "filtered_skeleton_mask[skeleton_points[:, 0], skeleton_points[:, 1], skeleton_points[:, 2]] = True\n",
    "\n",
    "selected_skeletons = floodfill_nearby_skeletons(heartless_mask, closest_skeletons)"
   ]
  },
  {
   "cell_type": "code",
   "execution_count": null,
   "metadata": {},
   "outputs": [],
   "source": [
    "chosen_skeletons = [s[0] for s in closest_skeletons][:2]\n",
    "center_point = Point(image_center)\n",
    "\n",
    "skeletons: list[Skeleton] = []\n",
    "for chosen_skeleton in chosen_skeletons:    \n",
    "    skeleton = Skeleton()\n",
    "    skeleton.create(chosen_skeleton, filtered_skeleton_mask, center_point)\n",
    "    skeletons.append(skeleton)"
   ]
  },
  {
   "cell_type": "code",
   "execution_count": null,
   "metadata": {},
   "outputs": [],
   "source": [
    "branches: list[Skeleton] = []\n",
    "for skeleton in skeletons:\n",
    "    these_branches = skeleton.split_into_branches(min_skeleton_length)\n",
    "    branches.extend(these_branches)"
   ]
  },
  {
   "cell_type": "code",
   "execution_count": null,
   "metadata": {},
   "outputs": [],
   "source": [
    "for i, branch in enumerate(branches):\n",
    "    branch.calculate_normals()\n",
    "    create_ply_normals(branch, f'normals_{i+1}.ply')"
   ]
  },
  {
   "cell_type": "code",
   "execution_count": null,
   "metadata": {},
   "outputs": [],
   "source": [
    "def get_value(image: np.ndarray, coords: np.ndarray):\n",
    "    x_size, y_size, z_size = image.shape\n",
    "    coords = np.clip(coords, [0, 0, 0], [x_size-1, y_size-1, z_size-1])\n",
    "    result = image[coords[:, 0], coords[:, 1], coords[:, 2]]\n",
    "    return result\n",
    "\n",
    "def mpr(image: np.ndarray, skeleton: Skeleton, rotations: int, x_step: int, y_step: int):\n",
    "    middle_point: Point = copy.deepcopy(skeleton[len(skeleton)//2])\n",
    "    main_skeleton = copy.deepcopy(skeleton).interpolate(step=x_step)\n",
    "    \n",
    "    rotation_degrees = 360 // rotations\n",
    "    for _ in range(rotations):\n",
    "        \n",
    "        skeleton = copy.deepcopy(main_skeleton)\n",
    "        new_image = np.zeros((len(np.arange(-200, 201, y_step)), len(skeleton)))\n",
    "        middle_point.rotate_normal(np.pi/180*rotation_degrees)\n",
    "        coord_offset = middle_point.coordinates.copy()\n",
    "        normal = middle_point.normal\n",
    "        \n",
    "        #1) calculate all the points coords relative to the middle point\n",
    "        for point in skeleton:\n",
    "            point.coordinates -= coord_offset\n",
    "        \n",
    "        #2) project all points to the normal line - this will be the x direction of the point from the center in a 2D image\n",
    "        n_dot_n = np.dot(normal, normal)\n",
    "        for point in skeleton:\n",
    "            # magnitude of projection of point p = np.dot(p, n)/np.dot(n, n)\n",
    "            point.projection_magnitude = np.dot(point.coordinates, normal) / n_dot_n\n",
    "        \n",
    "        #3) for the y direction - place the normal vector on each other point and calculate the values of the line\n",
    "        for i, point in enumerate(skeleton):\n",
    "            steps = np.arange(-200, 201, y_step).astype(float) + point.projection_magnitude\n",
    "            coords = (point.coordinates + coord_offset + steps[:, np.newaxis] * normal + 0.5).astype(int)\n",
    "            values = get_value(image, coords).astype(int)\n",
    "            new_image[:, i] = values\n",
    "        \n",
    "        fig, axes = plt.subplots(1, 1, figsize=(15, 5))\n",
    "        axes.imshow(new_image, cmap='gray')\n",
    "        fig.suptitle(branch.name)\n",
    "        plt.show()\n",
    "    \n",
    "for branch in [branches[-1]]:\n",
    "    mpr(base_image, branch, rotations=10, x_step = 0.1, y_step = 0.1)\n",
    "    break"
   ]
  },
  {
   "cell_type": "code",
   "execution_count": null,
   "metadata": {},
   "outputs": [],
   "source": [
    "rotation_degrees = 45\n",
    "number_of_rotations = 360 // rotation_degrees\n",
    "for rot in range(number_of_rotations):\n",
    "    degrees = rotation_degrees*rot\n",
    "    \n",
    "    for point in branch:\n",
    "        point.rotate_normal(np.pi/180*degrees)\n",
    "    create_ply_normals(branch, f'normals_{i+1}_rot{round(degrees, 2)}.ply')"
   ]
  },
  {
   "cell_type": "code",
   "execution_count": null,
   "metadata": {},
   "outputs": [],
   "source": [
    "def display_branches(branches: list[Skeleton]) -> None:\n",
    "    for branch in branches:\n",
    "        branch_mask = np.zeros_like(image).astype(bool)\n",
    "        for point in branch.points:\n",
    "            branch_mask[tuple(point.coordinates)] = True\n",
    "        create_ply(branch_mask, f'{branch.name}_branch_{branch.id}.ply')\n",
    "        \n",
    "display_branches(branches)"
   ]
  },
  {
   "cell_type": "code",
   "execution_count": null,
   "metadata": {},
   "outputs": [],
   "source": [
    "def display_mpr(branch: Skeleton):\n",
    "    mpr_test_x = np.zeros((image.shape[0], len(branch)))\n",
    "    mpr_test_y = np.zeros((image.shape[1], len(branch)))\n",
    "    mpr_test_z = np.zeros((image.shape[2], len(branch)))\n",
    "\n",
    "    for i, p in enumerate(branch.points):\n",
    "        coords = p.coordinates\n",
    "        x_pixels = image[:, coords[1], coords[2]]\n",
    "        y_pixels = image[coords[0], :, coords[2]]\n",
    "        z_pixels = image[coords[0], coords[1], :]\n",
    "        \n",
    "        mpr_test_x[:, i] = x_pixels\n",
    "        mpr_test_y[:, i] = y_pixels\n",
    "        mpr_test_z[:, i] = z_pixels\n",
    "\n",
    "    fig, axes = plt.subplots(1, 3, figsize=(15, 5))\n",
    "    axes[0].imshow(mpr_test_x, cmap='gray')\n",
    "    axes[1].imshow(mpr_test_y, cmap='gray')\n",
    "    axes[2].imshow(mpr_test_z, cmap='gray')\n",
    "    fig.suptitle(branch.name)\n",
    "    plt.show()\n",
    "    \n",
    "for branch in branches:\n",
    "    display_mpr(branch)"
   ]
  },
  {
   "cell_type": "code",
   "execution_count": null,
   "metadata": {},
   "outputs": [],
   "source": [
    "# create_ply(image, f'1.0_image.ply')\n",
    "create_ply(filtered_mask, f'1.1_filtered.ply')\n",
    "create_ply(eroded_mask, f'1.2_eroded.ply')\n",
    "create_ply(heartless_mask, f'1.3_heartless.ply')\n",
    "create_ply(trimmed_mask, f'1.4_trimmed.ply')\n",
    "create_ply(skeleton_mask, f'1.5_skeleton.ply')\n",
    "create_ply(filtered_skeleton_mask, f'1.6_closest_skeletons.ply')"
   ]
  }
 ],
 "metadata": {
  "kernelspec": {
   "display_name": "dicom_to_3d",
   "language": "python",
   "name": "python3"
  },
  "language_info": {
   "codemirror_mode": {
    "name": "ipython",
    "version": 3
   },
   "file_extension": ".py",
   "mimetype": "text/x-python",
   "name": "python",
   "nbconvert_exporter": "python",
   "pygments_lexer": "ipython3",
   "version": "3.12.7"
  }
 },
 "nbformat": 4,
 "nbformat_minor": 2
}
