{
 "cells": [
  {
   "cell_type": "code",
   "execution_count": null,
   "metadata": {},
   "outputs": [],
   "source": [
    "from tqdm import tqdm\n",
    "from array_lib import *\n",
    "from point3d_lib import Point\n",
    "from ply_creation_lib import create_ply, create_ply_normals\n",
    "from skeleton3d_lib import Skeleton\n",
    "from skimage.morphology import skeletonize\n",
    "import matplotlib.pyplot as plt\n",
    "import pydicom as dicom\n",
    "import numpy as np\n",
    "import itertools\n",
    "import struct\n",
    "import pickle\n",
    "import time\n",
    "import os"
   ]
  },
  {
   "cell_type": "code",
   "execution_count": null,
   "metadata": {},
   "outputs": [],
   "source": [
    "\"\"\"\n",
    "input_folder - must contain dcm files directly within it and only of one scan.\n",
    "offsets - range of colors to include\n",
    "seed - the entry coordinate to the aorta, must be the center.\n",
    "threshold - normalized image color lower threshold\n",
    "image_center - point between the arteries of interest\n",
    "\"\"\"\n",
    "input_folder = f'{os.getcwd()}\\\\20240923'\n",
    "offsets = (-15, 20)\n",
    "seed = (20, 310, 160)\n",
    "image_center = (150, 280, 230)\n",
    "min_skeleton_length = 100"
   ]
  },
  {
   "cell_type": "code",
   "execution_count": null,
   "metadata": {},
   "outputs": [],
   "source": [
    "def read_dicom(input_folder: str) -> np.ndarray:\n",
    "    files: list[str] = os.listdir(input_folder)\n",
    "    data = [dicom.dcmread(f'{input_folder}\\\\{file}') for file in files if file.endswith('.dcm')]\n",
    "    image = np.array([dicom.pixel_array(datum) for datum in data])\n",
    "    return image\n",
    "\n",
    "def normalize_image_colors(image: np.ndarray) -> np.ndarray:\n",
    "    min_val = np.min(image)\n",
    "    max_val = np.max(image)\n",
    "    image = (image - min_val) / (max_val - min_val) * 255\n",
    "    return image\n",
    "\n",
    "image = normalize_image_colors(read_dicom(input_folder))"
   ]
  },
  {
   "cell_type": "code",
   "execution_count": null,
   "metadata": {},
   "outputs": [],
   "source": [
    "filtered_mask = custom_floodfill_3d(image, seed_point=seed, new_value=-1, offsets=offsets)\n",
    "eroded_mask = erode_3d(filtered_mask)\n",
    "heartless_mask = remove_heart(eroded_mask)\n",
    "trimmed_mask = distinguish_3d(heartless_mask)"
   ]
  },
  {
   "cell_type": "code",
   "execution_count": null,
   "metadata": {},
   "outputs": [],
   "source": [
    "skeleton_mask = skeletonize(trimmed_mask)\n",
    "closest_skeletons = find_closest_skeletons(skeleton_mask, image_center)\n",
    "skeleton_points = np.concatenate([i[0] for i in closest_skeletons])\n",
    "filtered_skeleton_mask = np.zeros_like(skeleton_mask).astype(bool)\n",
    "filtered_skeleton_mask[skeleton_points[:, 0], skeleton_points[:, 1], skeleton_points[:, 2]] = True\n",
    "\n",
    "selected_skeletons = floodfill_nearby_skeletons(heartless_mask, closest_skeletons)"
   ]
  },
  {
   "cell_type": "code",
   "execution_count": null,
   "metadata": {},
   "outputs": [],
   "source": [
    "skeletons = [s[0] for s in closest_skeletons]\n",
    "\n",
    "left_skel = Skeleton('left')\n",
    "left_skel.add_points(skeletons[0], filtered_skeleton_mask)\n",
    "\n",
    "right_skel = Skeleton('right')\n",
    "right_skel.add_points(skeletons[1], filtered_skeleton_mask)"
   ]
  },
  {
   "cell_type": "code",
   "execution_count": null,
   "metadata": {},
   "outputs": [],
   "source": [
    "left_skel.remove_close_ends()\n",
    "right_skel.remove_close_ends()"
   ]
  },
  {
   "cell_type": "code",
   "execution_count": null,
   "metadata": {},
   "outputs": [],
   "source": [
    "center_point = Point(image_center)\n",
    "left_skel.find_head_point(center_point)\n",
    "right_skel.find_head_point(center_point)"
   ]
  },
  {
   "cell_type": "code",
   "execution_count": null,
   "metadata": {},
   "outputs": [],
   "source": [
    "branches: list[Skeleton] = []\n",
    "for skel in [left_skel, right_skel]:\n",
    "    branches.extend(skel.create_new_path_skeletons(min_skeleton_length))"
   ]
  },
  {
   "cell_type": "code",
   "execution_count": null,
   "metadata": {},
   "outputs": [],
   "source": [
    "for i, branch in enumerate(branches):\n",
    "    branch.calculate_normals()\n",
    "    create_ply_normals(branch, f'normals_{i+1}.ply')"
   ]
  },
  {
   "cell_type": "code",
   "execution_count": null,
   "metadata": {},
   "outputs": [],
   "source": [
    "def display_branches(branches: list[Skeleton]) -> None:\n",
    "    for branch in branches:\n",
    "        branch_mask = np.zeros_like(image).astype(bool)\n",
    "        for point in branch.points:\n",
    "            branch_mask[tuple(point.coordinates)] = True\n",
    "        create_ply(branch_mask, f'{branch.name}_branch_{branch.id}.ply')\n",
    "        \n",
    "display_branches(branches)"
   ]
  },
  {
   "cell_type": "code",
   "execution_count": null,
   "metadata": {},
   "outputs": [],
   "source": [
    "def display_mpr(branch: Skeleton):\n",
    "    mpr_test_x = np.zeros((image.shape[0], len(branch)))\n",
    "    mpr_test_y = np.zeros((image.shape[1], len(branch)))\n",
    "    mpr_test_z = np.zeros((image.shape[2], len(branch)))\n",
    "\n",
    "    for i, p in enumerate(branch.points):\n",
    "        coords = p.coordinates\n",
    "        x_pixels = image[:, coords[1], coords[2]]\n",
    "        y_pixels = image[coords[0], :, coords[2]]\n",
    "        z_pixels = image[coords[0], coords[1], :]\n",
    "        \n",
    "        mpr_test_x[:, i] = x_pixels\n",
    "        mpr_test_y[:, i] = y_pixels\n",
    "        mpr_test_z[:, i] = z_pixels\n",
    "\n",
    "    fig, axes = plt.subplots(1, 3, figsize=(15, 5))\n",
    "    axes[0].imshow(mpr_test_x, cmap='gray')\n",
    "    axes[1].imshow(mpr_test_y, cmap='gray')\n",
    "    axes[2].imshow(mpr_test_z, cmap='gray')\n",
    "    fig.suptitle(branch.name)\n",
    "    plt.show()\n",
    "    \n",
    "for branch in branches:\n",
    "    display_mpr(branch)"
   ]
  },
  {
   "cell_type": "code",
   "execution_count": null,
   "metadata": {},
   "outputs": [],
   "source": [
    "create_ply(image, f'1.0_image.ply')\n",
    "create_ply(filtered_mask, f'1.1_filtered.ply')\n",
    "create_ply(eroded_mask, f'1.2_eroded.ply')\n",
    "create_ply(heartless_mask, f'1.3_heartless.ply')\n",
    "create_ply(trimmed_mask, f'1.4_trimmed.ply')\n",
    "create_ply(skeleton_mask, f'1.5_skeleton.ply')\n",
    "create_ply(filtered_skeleton_mask, f'1.6_closest_skeletons.ply')"
   ]
  }
 ],
 "metadata": {
  "kernelspec": {
   "display_name": "dicom_to_3d",
   "language": "python",
   "name": "python3"
  },
  "language_info": {
   "codemirror_mode": {
    "name": "ipython",
    "version": 3
   },
   "file_extension": ".py",
   "mimetype": "text/x-python",
   "name": "python",
   "nbconvert_exporter": "python",
   "pygments_lexer": "ipython3",
   "version": "3.12.7"
  }
 },
 "nbformat": 4,
 "nbformat_minor": 2
}
